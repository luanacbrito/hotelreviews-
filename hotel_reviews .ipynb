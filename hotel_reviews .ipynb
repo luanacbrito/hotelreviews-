{
 "cells": [
  {
   "cell_type": "markdown",
   "metadata": {},
   "source": [
    "Hotel Reviews across Europe. A data set provided by booking.com"
   ]
  },
  {
   "cell_type": "code",
   "execution_count": 2,
   "metadata": {},
   "outputs": [],
   "source": [
    "#inicitlizing pyspark session\n",
    "from pyspark.sql import SparkSession\n",
    "spark = SparkSession.builder.appName('disso').getOrCreate()"
   ]
  },
  {
   "cell_type": "code",
   "execution_count": 10,
   "metadata": {},
   "outputs": [],
   "source": [
    "#importing the libraries \n",
    "import matplotlib.pyplot as plt\n",
    "import seaborn as sns\n",
    "import pandas as pd\n",
    "from cycler import cycler\n",
    "import numpy as np\n",
    "from pyspark.sql.functions import col\n",
    "%matplotlib inline "
   ]
  },
  {
   "cell_type": "code",
   "execution_count": 4,
   "metadata": {},
   "outputs": [],
   "source": [
    "#loading the file \n",
    "data = spark.read.csv('Hotel_Reviews.csv', header=True, inferSchema=True)"
   ]
  },
  {
   "cell_type": "code",
   "execution_count": 5,
   "metadata": {},
   "outputs": [
    {
     "data": {
      "text/plain": [
       "Row(Hotel_Address=' s Gravesandestraat 55 Oost 1092 AA Amsterdam Netherlands', Additional_Number_of_Scoring=194, Review_Date='8/3/2017', Average_Score=7.7, Hotel_Name='Hotel Arena', Reviewer_Nationality=' Russia ', Negative_Review=' I am so angry that i made this post available via all possible sites i use when planing my trips so no one will make the mistake of booking this place I made my booking via booking com We stayed for 6 nights in this hotel from 11 to 17 July Upon arrival we were placed in a small room on the 2nd floor of the hotel It turned out that this was not the room we booked I had specially reserved the 2 level duplex room so that we would have a big windows and high ceilings The room itself was ok if you don t mind the broken window that can not be closed hello rain and a mini fridge that contained some sort of a bio weapon at least i guessed so by the smell of it I intimately asked to change the room and after explaining 2 times that i booked a duplex btw it costs the same as a simple double but got way more volume due to the high ceiling was offered a room but only the next day SO i had to check out the next day before 11 o clock in order to get the room i waned to Not the best way to begin your holiday So we had to wait till 13 00 in order to check in my new room what a wonderful waist of my time The room 023 i got was just as i wanted to peaceful internal garden view big window We were tired from waiting the room so we placed our belongings and rushed to the city In the evening it turned out that there was a constant noise in the room i guess it was made by vibrating vent tubes or something it was constant and annoying as hell AND it did not stop even at 2 am making it hard to fall asleep for me and my wife I have an audio recording that i can not attach here but if you want i can send it via e mail The next day the technician came but was not able to determine the cause of the disturbing sound so i was offered to change the room once again the hotel was fully booked and they had only 1 room left the one that was smaller but seems newer ', Review_Total_Negative_Word_Counts=397, Total_Number_of_Reviews=1403, Positive_Review=' Only the park outside of the hotel was beautiful ', Review_Total_Positive_Word_Counts=11, Total_Number_of_Reviews_Reviewer_Has_Given=7, Reviewer_Score=2.9, Tags=\"[' Leisure trip ', ' Couple ', ' Duplex Double Room ', ' Stayed 6 nights ']\", days_since_review='0 days', lat='52.3605759', lng='4.9159683')"
      ]
     },
     "execution_count": 5,
     "metadata": {},
     "output_type": "execute_result"
    }
   ],
   "source": [
    "#checking the file \n",
    "data.head()"
   ]
  },
  {
   "cell_type": "code",
   "execution_count": 8,
   "metadata": {},
   "outputs": [
    {
     "name": "stdout",
     "output_type": "stream",
     "text": [
      "root\n",
      " |-- Hotel_Address: string (nullable = true)\n",
      " |-- Additional_Number_of_Scoring: integer (nullable = true)\n",
      " |-- Review_Date: string (nullable = true)\n",
      " |-- Average_Score: double (nullable = true)\n",
      " |-- Hotel_Name: string (nullable = true)\n",
      " |-- Reviewer_Nationality: string (nullable = true)\n",
      " |-- Negative_Review: string (nullable = true)\n",
      " |-- Review_Total_Negative_Word_Counts: integer (nullable = true)\n",
      " |-- Total_Number_of_Reviews: integer (nullable = true)\n",
      " |-- Positive_Review: string (nullable = true)\n",
      " |-- Review_Total_Positive_Word_Counts: integer (nullable = true)\n",
      " |-- Total_Number_of_Reviews_Reviewer_Has_Given: integer (nullable = true)\n",
      " |-- Reviewer_Score: double (nullable = true)\n",
      " |-- Tags: string (nullable = true)\n",
      " |-- days_since_review: string (nullable = true)\n",
      " |-- lat: string (nullable = true)\n",
      " |-- lng: string (nullable = true)\n",
      "\n"
     ]
    }
   ],
   "source": [
    "#checking the schema\n",
    "data.printSchema()"
   ]
  },
  {
   "cell_type": "code",
   "execution_count": 25,
   "metadata": {},
   "outputs": [],
   "source": [
    "data.createOrReplaceTempView('hotels')"
   ]
  },
  {
   "cell_type": "code",
   "execution_count": 9,
   "metadata": {},
   "outputs": [
    {
     "name": "stdout",
     "output_type": "stream",
     "text": [
      "+-------+----------------------------+\n",
      "|summary|Additional_Number_of_Scoring|\n",
      "+-------+----------------------------+\n",
      "|  count|                      515738|\n",
      "|   mean|            498.081836126095|\n",
      "| stddev|          500.53846669900753|\n",
      "|    min|                           1|\n",
      "|    max|                        2682|\n",
      "+-------+----------------------------+\n",
      "\n"
     ]
    }
   ],
   "source": [
    "data.select('Additional_Number_of_Scoring').describe().show()"
   ]
  },
  {
   "cell_type": "code",
   "execution_count": 74,
   "metadata": {},
   "outputs": [
    {
     "name": "stdout",
     "output_type": "stream",
     "text": [
      "+--------------------------+\n",
      "|count(DISTINCT Hotel_Name)|\n",
      "+--------------------------+\n",
      "|                      1492|\n",
      "+--------------------------+\n",
      "\n"
     ]
    }
   ],
   "source": [
    "spark.sql('SELECT COUNT(DISTINCT Hotel_Name) FROM hotels').show()"
   ]
  },
  {
   "cell_type": "code",
   "execution_count": 75,
   "metadata": {},
   "outputs": [
    {
     "name": "stdout",
     "output_type": "stream",
     "text": [
      "+-------------+-----+\n",
      "|Average_Score|count|\n",
      "+-------------+-----+\n",
      "|          9.8|   28|\n",
      "|          9.6|  915|\n",
      "|          9.5| 1207|\n",
      "|          9.4| 9339|\n",
      "|          9.3|12659|\n",
      "|          9.2|12935|\n",
      "|          9.0|21051|\n",
      "|          9.1|21379|\n",
      "+-------------+-----+\n",
      "\n",
      "+-------------+-----+\n",
      "|Average_Score|count|\n",
      "+-------------+-----+\n",
      "|          5.2|   65|\n",
      "|          6.6|  400|\n",
      "|          7.2|  684|\n",
      "|          6.7|  965|\n",
      "|          6.4| 1163|\n",
      "|          6.8| 1335|\n",
      "|          6.9| 1737|\n",
      "|          7.0| 3899|\n",
      "|          7.3| 3997|\n",
      "|          7.4| 6300|\n",
      "|          7.6| 6684|\n",
      "|          7.1| 6780|\n",
      "|          7.7|11829|\n",
      "|          7.5|13720|\n",
      "|          7.9|15194|\n",
      "|          7.8|19895|\n",
      "+-------------+-----+\n",
      "\n"
     ]
    }
   ],
   "source": [
    "high_scores = spark.sql('SELECT * FROM hotels WHERE Average_Score BETWEEN 9.0 AND 10.0').groupBy('Average_Score').count().orderBy('count').show()\n",
    "low_scores = spark.sql('SELECT * FROM hotels WHERE Average_Score BETWEEN 5.0 AND 7.9').groupBy('Average_Score').count().orderBy('count').show()"
   ]
  },
  {
   "cell_type": "code",
   "execution_count": 14,
   "metadata": {},
   "outputs": [
    {
     "name": "stdout",
     "output_type": "stream",
     "text": [
      "+---------------------------------+-------------+\n",
      "|Review_Total_Negative_Word_Counts|Average_Score|\n",
      "+---------------------------------+-------------+\n",
      "|                              393|          6.7|\n",
      "|                              384|          6.9|\n",
      "|                              392|          7.1|\n",
      "|                              386|          7.3|\n",
      "|                              403|          7.3|\n",
      "|                              389|          7.4|\n",
      "|                              382|          7.5|\n",
      "|                              386|          7.5|\n",
      "|                              384|          7.5|\n",
      "|                              385|          7.6|\n",
      "|                              383|          7.6|\n",
      "|                              397|          7.7|\n",
      "|                              384|          7.7|\n",
      "|                              402|          7.8|\n",
      "|                              391|          7.8|\n",
      "|                              399|          7.8|\n",
      "|                              389|          7.8|\n",
      "|                              389|          7.9|\n",
      "|                              383|          7.9|\n",
      "|                              388|          8.0|\n",
      "+---------------------------------+-------------+\n",
      "only showing top 20 rows\n",
      "\n"
     ]
    }
   ],
   "source": [
    "data.filter(\n",
    "    \"Review_Total_Negative_Word_Counts > 380\").select(\n",
    "    'Review_Total_Negative_Word_Counts', 'Average_Score').orderBy(\n",
    "    'Average_Score').show()"
   ]
  },
  {
   "cell_type": "code",
   "execution_count": 15,
   "metadata": {},
   "outputs": [
    {
     "name": "stdout",
     "output_type": "stream",
     "text": [
      "+---------------------------------+-------------+\n",
      "|Review_Total_Positive_Word_Counts|Average_Score|\n",
      "+---------------------------------+-------------+\n",
      "|                               38|          8.0|\n",
      "|                               40|          8.0|\n",
      "|                               26|          8.0|\n",
      "|                               17|          8.0|\n",
      "|                               37|          8.0|\n",
      "|                               36|          8.0|\n",
      "|                               69|          8.0|\n",
      "|                               41|          8.0|\n",
      "|                               51|          8.0|\n",
      "|                               81|          8.0|\n",
      "|                                3|          8.0|\n",
      "|                               58|          8.0|\n",
      "|                               16|          8.0|\n",
      "|                               35|          8.0|\n",
      "|                              101|          8.0|\n",
      "|                               26|          8.0|\n",
      "|                                7|          8.0|\n",
      "|                               40|          8.0|\n",
      "|                                8|          8.0|\n",
      "|                               20|          8.0|\n",
      "+---------------------------------+-------------+\n",
      "only showing top 20 rows\n",
      "\n"
     ]
    }
   ],
   "source": [
    "data.filter((data[\n",
    "    'Review_Total_Positive_Word_Counts'] > 0) & (data[\n",
    "    'Average_Score'] > 7.9)).select('Review_Total_Positive_Word_Counts', 'Average_Score').orderBy(\n",
    "    'Average_Score').show()\n",
    "# & is used for \"and\""
   ]
  },
  {
   "cell_type": "code",
   "execution_count": 16,
   "metadata": {},
   "outputs": [
    {
     "name": "stdout",
     "output_type": "stream",
     "text": [
      "+---------------------------------+-------------+\n",
      "|Review_Total_Negative_Word_Counts|Average_Score|\n",
      "+---------------------------------+-------------+\n",
      "|                              397|          7.7|\n",
      "|                                9|          8.5|\n",
      "|                               52|          8.5|\n",
      "|                               11|          8.5|\n",
      "|                                4|          8.5|\n",
      "|                               16|          8.5|\n",
      "|                               24|          8.5|\n",
      "|                               12|          8.5|\n",
      "|                               94|          8.5|\n",
      "|                               40|          8.5|\n",
      "|                               18|          8.5|\n",
      "|                              155|          8.5|\n",
      "|                               32|          8.5|\n",
      "|                               26|          8.5|\n",
      "|                               27|          8.5|\n",
      "|                                0|          8.5|\n",
      "|                              108|          8.5|\n",
      "|                               77|          8.5|\n",
      "|                               43|          8.5|\n",
      "|                                0|          8.5|\n",
      "+---------------------------------+-------------+\n",
      "only showing top 20 rows\n",
      "\n"
     ]
    }
   ],
   "source": [
    "data.filter((data['Review_Total_Negative_Word_Counts'] > 380) | (data[\n",
    "    'Average_Score'] > 7.9)).select(\n",
    "    'Review_Total_Negative_Word_Counts', 'Average_Score').show()\n",
    "# | is used for \"or\""
   ]
  },
  {
   "cell_type": "code",
   "execution_count": 17,
   "metadata": {},
   "outputs": [
    {
     "name": "stdout",
     "output_type": "stream",
     "text": [
      "+---------------------------------+-------------+\n",
      "|Review_Total_Negative_Word_Counts|Average_Score|\n",
      "+---------------------------------+-------------+\n",
      "|                              397|          7.7|\n",
      "|                              384|          7.7|\n",
      "|                              383|          7.6|\n",
      "|                              389|          7.9|\n",
      "|                              385|          7.6|\n",
      "|                              384|          7.5|\n",
      "|                              392|          7.1|\n",
      "|                              383|          7.9|\n",
      "|                              393|          6.7|\n",
      "|                              384|          6.9|\n",
      "|                              399|          7.8|\n",
      "|                              382|          7.5|\n",
      "|                              403|          7.3|\n",
      "|                              389|          7.4|\n",
      "|                              386|          7.5|\n",
      "|                              389|          7.8|\n",
      "|                              386|          7.3|\n",
      "|                              391|          7.8|\n",
      "|                              402|          7.8|\n",
      "+---------------------------------+-------------+\n",
      "\n"
     ]
    }
   ],
   "source": [
    "data.filter((data['Review_Total_Negative_Word_Counts'] > 380) &~ (data[\n",
    "    'Average_Score'] > 7.9)).select('Review_Total_Negative_Word_Counts', \n",
    "                                    'Average_Score').show()\n",
    "# ~ for \"not\" (where reviews were >380 AND NOT where > 7.9)"
   ]
  },
  {
   "cell_type": "code",
   "execution_count": 18,
   "metadata": {},
   "outputs": [
    {
     "data": {
      "text/plain": [
       "'K K Hotel George'"
      ]
     },
     "execution_count": 18,
     "metadata": {},
     "output_type": "execute_result"
    }
   ],
   "source": [
    "results = data.filter(data['Average_Score'] > 8.0).collect()\n",
    "row = results[0]\n",
    "row.asDict()['Hotel_Name']"
   ]
  },
  {
   "cell_type": "code",
   "execution_count": 19,
   "metadata": {},
   "outputs": [
    {
     "name": "stdout",
     "output_type": "stream",
     "text": [
      "+------------------+\n",
      "|max(Average_Score)|\n",
      "+------------------+\n",
      "|               9.8|\n",
      "+------------------+\n",
      "\n",
      "+------------------+\n",
      "|min(Average_Score)|\n",
      "+------------------+\n",
      "|               5.2|\n",
      "+------------------+\n",
      "\n"
     ]
    }
   ],
   "source": [
    "a = data.agg({'Average_Score': 'max'}).show()\n",
    "b = data.agg({'Average_Score': 'min'}).show()"
   ]
  },
  {
   "cell_type": "code",
   "execution_count": 20,
   "metadata": {},
   "outputs": [
    {
     "name": "stdout",
     "output_type": "stream",
     "text": [
      "+--------------------------------------+--------------------------------------+\n",
      "|max(Review_Total_Positive_Word_Counts)|max(Review_Total_Negative_Word_Counts)|\n",
      "+--------------------------------------+--------------------------------------+\n",
      "|                                   395|                                   408|\n",
      "+--------------------------------------+--------------------------------------+\n",
      "\n"
     ]
    }
   ],
   "source": [
    "max_rev = data.agg({'Review_Total_Negative_Word_Counts': 'max', \n",
    "                    'Review_Total_Positive_Word_Counts': 'max'}).show()"
   ]
  },
  {
   "cell_type": "code",
   "execution_count": 116,
   "metadata": {},
   "outputs": [
    {
     "name": "stdout",
     "output_type": "stream",
     "text": [
      "+--------------+--------------------------------------+--------------------------------------+\n",
      "|Reviewer_Score|avg(Review_Total_Negative_Word_Counts)|avg(Review_Total_Positive_Word_Counts)|\n",
      "+--------------+--------------------------------------+--------------------------------------+\n",
      "|           8.0|                     19.24158415841584|                    14.227722772277227|\n",
      "|           8.1|                    17.923076923076923|                    15.102564102564102|\n",
      "|           8.3|                     18.60460027232056|                     17.39415969655709|\n",
      "|           8.5|                    16.403543307086615|                     14.05511811023622|\n",
      "|           8.8|                     16.62228348661397|                    18.819617049688773|\n",
      "|           9.0|                    14.460587326120557|                     17.21174652241113|\n",
      "|           9.2|                     14.17040779748391|                     20.57607155659492|\n",
      "|           9.4|                    14.746031746031745|                     19.19047619047619|\n",
      "|           9.5|                    11.259668508287293|                    16.802486187845304|\n",
      "|           9.6|                     10.91883878764034|                    22.026992847808675|\n",
      "|          10.0|                    6.4352584741008005|                     22.94158114161912|\n",
      "+--------------+--------------------------------------+--------------------------------------+\n",
      "\n"
     ]
    }
   ],
   "source": [
    "x = spark.sql(\n",
    "    'SELECT * FROM hotels WHERE Reviewer_Score >= 8.0').groupBy(\n",
    "    'Reviewer_Score').avg('Review_Total_Negative_Word_Counts', \n",
    "                          'Review_Total_Positive_Word_Counts').orderBy(\"Reviewer_Score\").show()"
   ]
  },
  {
   "cell_type": "code",
   "execution_count": 115,
   "metadata": {},
   "outputs": [
    {
     "data": {
      "image/png": "[encoded data removed]",
      "text/plain": [
       "<Figure size 432x288 with 1 Axes>"
      ]
     },
     "metadata": {},
     "output_type": "display_data"
    }
   ],
   "source": [
    "labels = 'Avg negative words', 'Avg positive words'\n",
    "sizes = [19.24158415841584, 14.227722772277227 ]\n",
    "explode = (0.1, 0)  # only \"explode\" the 1nd slice \n",
    "\n",
    "fig1, ax1 = plt.subplots()\n",
    "ax1.pie(sizes, explode=explode, labels=labels, autopct='%1.1f%%',\n",
    "        shadow=True, startangle=90)\n",
    "ax1.axis('equal')  # Equal aspect ratio ensures that pie is drawn as a circle.\n",
    "\n",
    "plt.show()"
   ]
  },
  {
   "cell_type": "code",
   "execution_count": 23,
   "metadata": {},
   "outputs": [
    {
     "name": "stdout",
     "output_type": "stream",
     "text": [
      "+-------------+--------------------------------------+\n",
      "|Average_Score|max(Review_Total_Negative_Word_Counts)|\n",
      "+-------------+--------------------------------------+\n",
      "|          5.2|                                   112|\n",
      "|          6.4|                                   363|\n",
      "|          6.6|                                   275|\n",
      "|          6.7|                                   393|\n",
      "|          6.8|                                   373|\n",
      "|          6.9|                                   384|\n",
      "|          7.0|                                   376|\n",
      "|          7.1|                                   392|\n",
      "|          7.2|                                   366|\n",
      "|          7.3|                                   403|\n",
      "|          7.4|                                   389|\n",
      "|          7.5|                                   386|\n",
      "|          7.6|                                   385|\n",
      "|          7.7|                                   397|\n",
      "|          7.8|                                   402|\n",
      "|          7.9|                                   389|\n",
      "|          8.0|                                   408|\n",
      "|          8.1|                                   400|\n",
      "|          8.2|                                   375|\n",
      "|          8.3|                                   402|\n",
      "+-------------+--------------------------------------+\n",
      "only showing top 20 rows\n",
      "\n"
     ]
    }
   ],
   "source": [
    "group_data = data.groupby('Average_Score')\n",
    "group_data.agg({'Review_Total_Negative_Word_Counts':'max'}).orderBy('Average_Score').show()"
   ]
  },
  {
   "cell_type": "code",
   "execution_count": 24,
   "metadata": {},
   "outputs": [],
   "source": [
    "from pyspark.sql.functions import countDistinct, avg, stddev"
   ]
  },
  {
   "cell_type": "code",
   "execution_count": 29,
   "metadata": {},
   "outputs": [
    {
     "name": "stdout",
     "output_type": "stream",
     "text": [
      "+-----------------------------+\n",
      "|count(DISTINCT Average_Score)|\n",
      "+-----------------------------+\n",
      "|                           34|\n",
      "+-----------------------------+\n",
      "\n"
     ]
    }
   ],
   "source": [
    "data.select(countDistinct('Average_Score')).show()"
   ]
  },
  {
   "cell_type": "code",
   "execution_count": 31,
   "metadata": {},
   "outputs": [
    {
     "data": {
      "text/html": [
       "<div>\n",
       "<style scoped>\n",
       "    .dataframe tbody tr th:only-of-type {\n",
       "        vertical-align: middle;\n",
       "    }\n",
       "\n",
       "    .dataframe tbody tr th {\n",
       "        vertical-align: top;\n",
       "    }\n",
       "\n",
       "    .dataframe thead th {\n",
       "        text-align: right;\n",
       "    }\n",
       "</style>\n",
       "<table border=\"1\" class=\"dataframe\">\n",
       "  <thead>\n",
       "    <tr style=\"text-align: right;\">\n",
       "      <th></th>\n",
       "      <th>0</th>\n",
       "      <th>1</th>\n",
       "      <th>2</th>\n",
       "    </tr>\n",
       "  </thead>\n",
       "  <tbody>\n",
       "    <tr>\n",
       "      <td>0</td>\n",
       "      <td>Hotel Liberty</td>\n",
       "      <td>5.2</td>\n",
       "      <td>Viale Bligny 56 Milan City Center 20136 Milan ...</td>\n",
       "    </tr>\n",
       "    <tr>\n",
       "      <td>1</td>\n",
       "      <td>Hotel Liberty</td>\n",
       "      <td>5.2</td>\n",
       "      <td>Viale Bligny 56 Milan City Center 20136 Milan ...</td>\n",
       "    </tr>\n",
       "    <tr>\n",
       "      <td>2</td>\n",
       "      <td>Hotel Liberty</td>\n",
       "      <td>5.2</td>\n",
       "      <td>Viale Bligny 56 Milan City Center 20136 Milan ...</td>\n",
       "    </tr>\n",
       "    <tr>\n",
       "      <td>3</td>\n",
       "      <td>Hotel Liberty</td>\n",
       "      <td>5.2</td>\n",
       "      <td>Viale Bligny 56 Milan City Center 20136 Milan ...</td>\n",
       "    </tr>\n",
       "    <tr>\n",
       "      <td>4</td>\n",
       "      <td>Hotel Liberty</td>\n",
       "      <td>5.2</td>\n",
       "      <td>Viale Bligny 56 Milan City Center 20136 Milan ...</td>\n",
       "    </tr>\n",
       "    <tr>\n",
       "      <td>...</td>\n",
       "      <td>...</td>\n",
       "      <td>...</td>\n",
       "      <td>...</td>\n",
       "    </tr>\n",
       "    <tr>\n",
       "      <td>515733</td>\n",
       "      <td>Ritz Paris</td>\n",
       "      <td>9.8</td>\n",
       "      <td>15 Place Vend me 1st arr 75001 Paris France</td>\n",
       "    </tr>\n",
       "    <tr>\n",
       "      <td>515734</td>\n",
       "      <td>Ritz Paris</td>\n",
       "      <td>9.8</td>\n",
       "      <td>15 Place Vend me 1st arr 75001 Paris France</td>\n",
       "    </tr>\n",
       "    <tr>\n",
       "      <td>515735</td>\n",
       "      <td>Ritz Paris</td>\n",
       "      <td>9.8</td>\n",
       "      <td>15 Place Vend me 1st arr 75001 Paris France</td>\n",
       "    </tr>\n",
       "    <tr>\n",
       "      <td>515736</td>\n",
       "      <td>Ritz Paris</td>\n",
       "      <td>9.8</td>\n",
       "      <td>15 Place Vend me 1st arr 75001 Paris France</td>\n",
       "    </tr>\n",
       "    <tr>\n",
       "      <td>515737</td>\n",
       "      <td>Ritz Paris</td>\n",
       "      <td>9.8</td>\n",
       "      <td>15 Place Vend me 1st arr 75001 Paris France</td>\n",
       "    </tr>\n",
       "  </tbody>\n",
       "</table>\n",
       "<p>515738 rows × 3 columns</p>\n",
       "</div>"
      ],
      "text/plain": [
       "                    0    1                                                  2\n",
       "0       Hotel Liberty  5.2  Viale Bligny 56 Milan City Center 20136 Milan ...\n",
       "1       Hotel Liberty  5.2  Viale Bligny 56 Milan City Center 20136 Milan ...\n",
       "2       Hotel Liberty  5.2  Viale Bligny 56 Milan City Center 20136 Milan ...\n",
       "3       Hotel Liberty  5.2  Viale Bligny 56 Milan City Center 20136 Milan ...\n",
       "4       Hotel Liberty  5.2  Viale Bligny 56 Milan City Center 20136 Milan ...\n",
       "...               ...  ...                                                ...\n",
       "515733     Ritz Paris  9.8        15 Place Vend me 1st arr 75001 Paris France\n",
       "515734     Ritz Paris  9.8        15 Place Vend me 1st arr 75001 Paris France\n",
       "515735     Ritz Paris  9.8        15 Place Vend me 1st arr 75001 Paris France\n",
       "515736     Ritz Paris  9.8        15 Place Vend me 1st arr 75001 Paris France\n",
       "515737     Ritz Paris  9.8        15 Place Vend me 1st arr 75001 Paris France\n",
       "\n",
       "[515738 rows x 3 columns]"
      ]
     },
     "execution_count": 31,
     "metadata": {},
     "output_type": "execute_result"
    }
   ],
   "source": [
    "min_avg = data.orderBy('Average_Score', ascending=True).select('Hotel_Name', \"Average_Score\", 'Hotel_Address').collect()\n",
    "min_avg \n",
    "x = pd.DataFrame(data=min_avg)\n",
    "x"
   ]
  },
  {
   "cell_type": "code",
   "execution_count": 32,
   "metadata": {},
   "outputs": [
    {
     "name": "stdout",
     "output_type": "stream",
     "text": [
      "+-------------+-----+\n",
      "|Average_score|count|\n",
      "+-------------+-----+\n",
      "|          9.8|   28|\n",
      "|          5.2|   65|\n",
      "|          6.6|  400|\n",
      "|          7.2|  684|\n",
      "|          9.6|  915|\n",
      "|          6.7|  965|\n",
      "|          6.4| 1163|\n",
      "|          9.5| 1207|\n",
      "|          6.8| 1335|\n",
      "|          6.9| 1737|\n",
      "|          7.0| 3899|\n",
      "|          7.3| 3997|\n",
      "|          7.4| 6300|\n",
      "|          7.6| 6684|\n",
      "|          7.1| 6780|\n",
      "|          9.4| 9339|\n",
      "|          7.7|11829|\n",
      "|          9.3|12659|\n",
      "|          9.2|12935|\n",
      "|          7.5|13720|\n",
      "+-------------+-----+\n",
      "only showing top 20 rows\n",
      "\n"
     ]
    }
   ],
   "source": [
    "data.groupBy(\"Average_score\").count().orderBy('count').show()"
   ]
  },
  {
   "cell_type": "markdown",
   "metadata": {},
   "source": [
    "# Lowest average hotel rates"
   ]
  },
  {
   "cell_type": "markdown",
   "metadata": {},
   "source": [
    "Hotel Liberty "
   ]
  },
  {
   "cell_type": "code",
   "execution_count": 33,
   "metadata": {},
   "outputs": [
    {
     "data": {
      "text/html": [
       "<div>\n",
       "<style scoped>\n",
       "    .dataframe tbody tr th:only-of-type {\n",
       "        vertical-align: middle;\n",
       "    }\n",
       "\n",
       "    .dataframe tbody tr th {\n",
       "        vertical-align: top;\n",
       "    }\n",
       "\n",
       "    .dataframe thead th {\n",
       "        text-align: right;\n",
       "    }\n",
       "</style>\n",
       "<table border=\"1\" class=\"dataframe\">\n",
       "  <thead>\n",
       "    <tr style=\"text-align: right;\">\n",
       "      <th></th>\n",
       "      <th>0</th>\n",
       "      <th>1</th>\n",
       "    </tr>\n",
       "  </thead>\n",
       "  <tbody>\n",
       "    <tr>\n",
       "      <td>0</td>\n",
       "      <td>Hotel Liberty</td>\n",
       "      <td>5.2</td>\n",
       "    </tr>\n",
       "    <tr>\n",
       "      <td>1</td>\n",
       "      <td>Hotel Liberty</td>\n",
       "      <td>5.2</td>\n",
       "    </tr>\n",
       "    <tr>\n",
       "      <td>2</td>\n",
       "      <td>Hotel Liberty</td>\n",
       "      <td>5.2</td>\n",
       "    </tr>\n",
       "    <tr>\n",
       "      <td>3</td>\n",
       "      <td>Hotel Liberty</td>\n",
       "      <td>5.2</td>\n",
       "    </tr>\n",
       "    <tr>\n",
       "      <td>4</td>\n",
       "      <td>Hotel Liberty</td>\n",
       "      <td>5.2</td>\n",
       "    </tr>\n",
       "    <tr>\n",
       "      <td>...</td>\n",
       "      <td>...</td>\n",
       "      <td>...</td>\n",
       "    </tr>\n",
       "    <tr>\n",
       "      <td>60</td>\n",
       "      <td>Hotel Liberty</td>\n",
       "      <td>5.2</td>\n",
       "    </tr>\n",
       "    <tr>\n",
       "      <td>61</td>\n",
       "      <td>Hotel Liberty</td>\n",
       "      <td>5.2</td>\n",
       "    </tr>\n",
       "    <tr>\n",
       "      <td>62</td>\n",
       "      <td>Hotel Liberty</td>\n",
       "      <td>5.2</td>\n",
       "    </tr>\n",
       "    <tr>\n",
       "      <td>63</td>\n",
       "      <td>Hotel Liberty</td>\n",
       "      <td>5.2</td>\n",
       "    </tr>\n",
       "    <tr>\n",
       "      <td>64</td>\n",
       "      <td>Hotel Liberty</td>\n",
       "      <td>5.2</td>\n",
       "    </tr>\n",
       "  </tbody>\n",
       "</table>\n",
       "<p>65 rows × 2 columns</p>\n",
       "</div>"
      ],
      "text/plain": [
       "                0    1\n",
       "0   Hotel Liberty  5.2\n",
       "1   Hotel Liberty  5.2\n",
       "2   Hotel Liberty  5.2\n",
       "3   Hotel Liberty  5.2\n",
       "4   Hotel Liberty  5.2\n",
       "..            ...  ...\n",
       "60  Hotel Liberty  5.2\n",
       "61  Hotel Liberty  5.2\n",
       "62  Hotel Liberty  5.2\n",
       "63  Hotel Liberty  5.2\n",
       "64  Hotel Liberty  5.2\n",
       "\n",
       "[65 rows x 2 columns]"
      ]
     },
     "execution_count": 33,
     "metadata": {},
     "output_type": "execute_result"
    }
   ],
   "source": [
    "\n",
    "x3 = data.orderBy('Average_Score').select('Hotel_Name', \"Average_Score\").collect()\n",
    "df3 = pd.DataFrame(data=x3)\n",
    "df3[0:65]"
   ]
  },
  {
   "cell_type": "code",
   "execution_count": 34,
   "metadata": {},
   "outputs": [
    {
     "name": "stdout",
     "output_type": "stream",
     "text": [
      "+-------------+--------------+\n",
      "|   Hotel_Name|Reviewer_Score|\n",
      "+-------------+--------------+\n",
      "|Hotel Liberty|           2.5|\n",
      "|Hotel Liberty|           2.5|\n",
      "|Hotel Liberty|           2.5|\n",
      "|Hotel Liberty|           2.5|\n",
      "|Hotel Liberty|           2.9|\n",
      "|Hotel Liberty|           2.9|\n",
      "|Hotel Liberty|           2.9|\n",
      "|Hotel Liberty|           3.3|\n",
      "|Hotel Liberty|           3.3|\n",
      "|Hotel Liberty|           3.3|\n",
      "|Hotel Liberty|           3.3|\n",
      "|Hotel Liberty|           3.3|\n",
      "|Hotel Liberty|           3.3|\n",
      "|Hotel Liberty|           3.3|\n",
      "|Hotel Liberty|           3.5|\n",
      "|Hotel Liberty|           3.5|\n",
      "|Hotel Liberty|           3.8|\n",
      "|Hotel Liberty|           3.8|\n",
      "|Hotel Liberty|           3.8|\n",
      "|Hotel Liberty|           3.8|\n",
      "+-------------+--------------+\n",
      "only showing top 20 rows\n",
      "\n",
      "+-------------+--------------+\n",
      "|   Hotel_Name|Reviewer_Score|\n",
      "+-------------+--------------+\n",
      "|Hotel Liberty|           8.8|\n",
      "|Hotel Liberty|           8.8|\n",
      "|Hotel Liberty|           8.3|\n",
      "|Hotel Liberty|           7.9|\n",
      "|Hotel Liberty|           7.5|\n",
      "|Hotel Liberty|           7.5|\n",
      "|Hotel Liberty|           7.5|\n",
      "|Hotel Liberty|           7.5|\n",
      "|Hotel Liberty|           7.5|\n",
      "|Hotel Liberty|           7.1|\n",
      "|Hotel Liberty|           7.1|\n",
      "|Hotel Liberty|           7.1|\n",
      "|Hotel Liberty|           7.1|\n",
      "|Hotel Liberty|           7.0|\n",
      "|Hotel Liberty|           6.7|\n",
      "|Hotel Liberty|           6.7|\n",
      "|Hotel Liberty|           6.3|\n",
      "|Hotel Liberty|           6.3|\n",
      "|Hotel Liberty|           6.3|\n",
      "|Hotel Liberty|           6.3|\n",
      "+-------------+--------------+\n",
      "only showing top 20 rows\n",
      "\n"
     ]
    }
   ],
   "source": [
    "data.filter(data.Hotel_Name.contains('Hotel Liberty')).orderBy('Reviewer_Score').select(\n",
    "    'Hotel_Name', 'Reviewer_Score').show()\n",
    "data.filter(data.Hotel_Name.contains('Hotel Liberty')).orderBy('Reviewer_Score', ascending=False).select(\n",
    "    'Hotel_Name', 'Reviewer_Score').show()"
   ]
  },
  {
   "cell_type": "code",
   "execution_count": 35,
   "metadata": {},
   "outputs": [
    {
     "name": "stdout",
     "output_type": "stream",
     "text": [
      "+--------------------------------------+\n",
      "|sum(Review_Total_Negative_Word_Counts)|\n",
      "+--------------------------------------+\n",
      "|                                  2087|\n",
      "+--------------------------------------+\n",
      "\n",
      "+--------------------------------------+\n",
      "|sum(Review_Total_Positive_Word_Counts)|\n",
      "+--------------------------------------+\n",
      "|                                   795|\n",
      "+--------------------------------------+\n",
      "\n"
     ]
    }
   ],
   "source": [
    "hot_liberty = data.filter(data.Hotel_Name.contains('Hotel Liberty')).select('Hotel_Name', \n",
    "                                                                            'Review_Total_Negative_Word_Counts')\n",
    "hot_liberty.groupby().sum().show()\n",
    "\n",
    "liberty2 = data.filter(data.Hotel_Name.contains('Hotel Liberty')).select(\n",
    "    'Hotel_Name', 'Review_Total_Positive_Word_Counts')\n",
    "liberty2.groupby().sum().show()"
   ]
  },
  {
   "cell_type": "code",
   "execution_count": 36,
   "metadata": {},
   "outputs": [
    {
     "name": "stdout",
     "output_type": "stream",
     "text": [
      "+-----+\n",
      "|count|\n",
      "+-----+\n",
      "|   13|\n",
      "+-----+\n",
      "\n",
      "+-----+\n",
      "|count|\n",
      "+-----+\n",
      "|    1|\n",
      "+-----+\n",
      "\n"
     ]
    }
   ],
   "source": [
    "#Common positive words in Hotel Liberty reviews \n",
    "\n",
    "lib = data.filter(data.Hotel_Name.contains('Hotel Liberty')).select(\n",
    "    'Hotel_Name', 'Positive_Review')\n",
    "lib2 = lib.filter(lib.Positive_Review.contains('location')).select('Hotel_Name', 'Positive_Review')\n",
    "lib2.groupBy().count().show()\n",
    "\n",
    "lib3 = lib.filter(lib.Positive_Review.contains('Trams')).select('Hotel_Name', 'Positive_Review')\n",
    "lib3.groupBy().count().show()"
   ]
  },
  {
   "cell_type": "code",
   "execution_count": 47,
   "metadata": {},
   "outputs": [
    {
     "name": "stdout",
     "output_type": "stream",
     "text": [
      "+-----+\n",
      "|count|\n",
      "+-----+\n",
      "|   11|\n",
      "+-----+\n",
      "\n",
      "+-----+\n",
      "|count|\n",
      "+-----+\n",
      "|    6|\n",
      "+-----+\n",
      "\n",
      "+-----+\n",
      "|count|\n",
      "+-----+\n",
      "|    4|\n",
      "+-----+\n",
      "\n"
     ]
    }
   ],
   "source": [
    "lib_brk_1 = lib.filter(lib.Positive_Review.contains('breakfast')).select('Hotel_Name', 'Positive_Review')\n",
    "lib_brk_1.groupBy().count().show()\n",
    "\n",
    "lib_brk_2 = lib.filter(lib.Positive_Review.contains('Breakfast')).select('Hotel_Name', 'Positive_Review')\n",
    "lib_brk_2.groupBy().count().show()\n",
    "\n",
    "lib_neg = data.filter(data.Hotel_Name.contains('Hotel Liberty')).select(\n",
    "    'Hotel_Name', 'Negative_Review')\n",
    "lib_neg2 = lib_neg.filter(lib_neg.Negative_Review.contains('wifi')).select('Hotel_Name', 'Negative_Review')\n",
    "lib_neg2.groupBy().count().show()"
   ]
  },
  {
   "cell_type": "markdown",
   "metadata": {},
   "source": [
    "Hotel Cavendish "
   ]
  },
  {
   "cell_type": "code",
   "execution_count": 42,
   "metadata": {},
   "outputs": [
    {
     "name": "stdout",
     "output_type": "stream",
     "text": [
      "+---------------+-------------+\n",
      "|     Hotel_Name|Average_Score|\n",
      "+---------------+-------------+\n",
      "|Hotel Cavendish|          6.4|\n",
      "|Hotel Cavendish|          6.4|\n",
      "|Hotel Cavendish|          6.4|\n",
      "|Hotel Cavendish|          6.4|\n",
      "|Hotel Cavendish|          6.4|\n",
      "|Hotel Cavendish|          6.4|\n",
      "|Hotel Cavendish|          6.4|\n",
      "|Hotel Cavendish|          6.4|\n",
      "|Hotel Cavendish|          6.4|\n",
      "|Hotel Cavendish|          6.4|\n",
      "|Hotel Cavendish|          6.4|\n",
      "|Hotel Cavendish|          6.4|\n",
      "|Hotel Cavendish|          6.4|\n",
      "|Hotel Cavendish|          6.4|\n",
      "|Hotel Cavendish|          6.4|\n",
      "|Hotel Cavendish|          6.4|\n",
      "|Hotel Cavendish|          6.4|\n",
      "|Hotel Cavendish|          6.4|\n",
      "|Hotel Cavendish|          6.4|\n",
      "|Hotel Cavendish|          6.4|\n",
      "+---------------+-------------+\n",
      "only showing top 20 rows\n",
      "\n"
     ]
    }
   ],
   "source": [
    "data.filter('Average_Score = 6.4').select('Hotel_Name', \"Average_Score\").show()"
   ]
  },
  {
   "cell_type": "code",
   "execution_count": 43,
   "metadata": {},
   "outputs": [
    {
     "data": {
      "text/html": [
       "<div>\n",
       "<style scoped>\n",
       "    .dataframe tbody tr th:only-of-type {\n",
       "        vertical-align: middle;\n",
       "    }\n",
       "\n",
       "    .dataframe tbody tr th {\n",
       "        vertical-align: top;\n",
       "    }\n",
       "\n",
       "    .dataframe thead th {\n",
       "        text-align: right;\n",
       "    }\n",
       "</style>\n",
       "<table border=\"1\" class=\"dataframe\">\n",
       "  <thead>\n",
       "    <tr style=\"text-align: right;\">\n",
       "      <th></th>\n",
       "      <th>0</th>\n",
       "      <th>1</th>\n",
       "    </tr>\n",
       "  </thead>\n",
       "  <tbody>\n",
       "    <tr>\n",
       "      <td>65</td>\n",
       "      <td>Hotel Cavendish</td>\n",
       "      <td>6.4</td>\n",
       "    </tr>\n",
       "    <tr>\n",
       "      <td>66</td>\n",
       "      <td>Hotel Cavendish</td>\n",
       "      <td>6.4</td>\n",
       "    </tr>\n",
       "    <tr>\n",
       "      <td>67</td>\n",
       "      <td>Hotel Cavendish</td>\n",
       "      <td>6.4</td>\n",
       "    </tr>\n",
       "    <tr>\n",
       "      <td>68</td>\n",
       "      <td>Hotel Cavendish</td>\n",
       "      <td>6.4</td>\n",
       "    </tr>\n",
       "    <tr>\n",
       "      <td>69</td>\n",
       "      <td>Hotel Cavendish</td>\n",
       "      <td>6.4</td>\n",
       "    </tr>\n",
       "    <tr>\n",
       "      <td>70</td>\n",
       "      <td>Hotel Cavendish</td>\n",
       "      <td>6.4</td>\n",
       "    </tr>\n",
       "    <tr>\n",
       "      <td>71</td>\n",
       "      <td>Hotel Cavendish</td>\n",
       "      <td>6.4</td>\n",
       "    </tr>\n",
       "    <tr>\n",
       "      <td>72</td>\n",
       "      <td>Hotel Cavendish</td>\n",
       "      <td>6.4</td>\n",
       "    </tr>\n",
       "    <tr>\n",
       "      <td>73</td>\n",
       "      <td>Hotel Cavendish</td>\n",
       "      <td>6.4</td>\n",
       "    </tr>\n",
       "    <tr>\n",
       "      <td>74</td>\n",
       "      <td>Hotel Cavendish</td>\n",
       "      <td>6.4</td>\n",
       "    </tr>\n",
       "  </tbody>\n",
       "</table>\n",
       "</div>"
      ],
      "text/plain": [
       "                  0    1\n",
       "65  Hotel Cavendish  6.4\n",
       "66  Hotel Cavendish  6.4\n",
       "67  Hotel Cavendish  6.4\n",
       "68  Hotel Cavendish  6.4\n",
       "69  Hotel Cavendish  6.4\n",
       "70  Hotel Cavendish  6.4\n",
       "71  Hotel Cavendish  6.4\n",
       "72  Hotel Cavendish  6.4\n",
       "73  Hotel Cavendish  6.4\n",
       "74  Hotel Cavendish  6.4"
      ]
     },
     "execution_count": 43,
     "metadata": {},
     "output_type": "execute_result"
    }
   ],
   "source": [
    "x3 = data.orderBy('Average_Score').select('Hotel_Name', \"Average_Score\").collect()\n",
    "df3 = pd.DataFrame(data=x3)\n",
    "df3[65:75]"
   ]
  },
  {
   "cell_type": "code",
   "execution_count": 46,
   "metadata": {},
   "outputs": [
    {
     "name": "stdout",
     "output_type": "stream",
     "text": [
      "+---------------+-------------+-----+\n",
      "|     Hotel_Name|Average_Score|count|\n",
      "+---------------+-------------+-----+\n",
      "|Hotel Cavendish|          6.4|  920|\n",
      "+---------------+-------------+-----+\n",
      "\n"
     ]
    }
   ],
   "source": [
    "data.filter(data.Hotel_Name.contains('Hotel Cavendish')).groupBy(    \n",
    "    \"Hotel_Name\" ,'Average_Score').count().show()"
   ]
  },
  {
   "cell_type": "code",
   "execution_count": 45,
   "metadata": {},
   "outputs": [
    {
     "name": "stdout",
     "output_type": "stream",
     "text": [
      "+-----+\n",
      "|count|\n",
      "+-----+\n",
      "|  273|\n",
      "+-----+\n",
      "\n",
      "+-----+\n",
      "|count|\n",
      "+-----+\n",
      "|   27|\n",
      "+-----+\n",
      "\n",
      "+-----+\n",
      "|count|\n",
      "+-----+\n",
      "|   39|\n",
      "+-----+\n",
      "\n"
     ]
    }
   ],
   "source": [
    "#Common positive words in Hotel Cavendish reviews \n",
    "\n",
    "cavend = data.filter(data.Hotel_Name.contains('Hotel Cavendish')).select(\n",
    "    'Hotel_Name', 'Positive_Review')\n",
    "cavend2 = cavend.filter(cavend.Positive_Review.contains('location')).select('Hotel_Name', 'Positive_Review')\n",
    "cavend2.groupBy().count().show()\n",
    "\n",
    "cavend3 = cavend.filter(cavend.Positive_Review.contains('central')).select('Hotel_Name', 'Positive_Review')\n",
    "cavend3.groupBy().count().show()\n",
    "\n",
    "cavend4 = cavend.filter(cavend.Positive_Review.contains('close to')).select('Hotel_Name', 'Positive_Review')\n",
    "cavend4.groupBy().count().show()"
   ]
  },
  {
   "cell_type": "code",
   "execution_count": 49,
   "metadata": {},
   "outputs": [
    {
     "name": "stdout",
     "output_type": "stream",
     "text": [
      "+-----+\n",
      "|count|\n",
      "+-----+\n",
      "|  212|\n",
      "+-----+\n",
      "\n",
      "+-----+\n",
      "|count|\n",
      "+-----+\n",
      "|   82|\n",
      "+-----+\n",
      "\n"
     ]
    }
   ],
   "source": [
    "cavend = data.filter(data.Hotel_Name.contains('Hotel Cavendish')).select(\n",
    "    'Hotel_Name', 'Positive_Review')\n",
    "cavend2 = cavend.filter(cavend.Positive_Review.contains('breakfast')).select('Hotel_Name', 'Positive_Review')\n",
    "cavend2.groupBy().count().show()\n",
    "\n",
    "cavend3 = cavend.filter(cavend.Positive_Review.contains('Breakfast')).select('Hotel_Name', 'Positive_Review')\n",
    "cavend3.groupBy().count().show()"
   ]
  },
  {
   "cell_type": "code",
   "execution_count": 50,
   "metadata": {},
   "outputs": [
    {
     "name": "stdout",
     "output_type": "stream",
     "text": [
      "+-----+\n",
      "|count|\n",
      "+-----+\n",
      "|   28|\n",
      "+-----+\n",
      "\n",
      "+-----+\n",
      "|count|\n",
      "+-----+\n",
      "|  186|\n",
      "+-----+\n",
      "\n",
      "+-----+\n",
      "|count|\n",
      "+-----+\n",
      "|   54|\n",
      "+-----+\n",
      "\n"
     ]
    }
   ],
   "source": [
    "#Common negative words in Hotel Cavendish reviews \n",
    "\n",
    "\n",
    "cavend = data.filter(data.Hotel_Name.contains('Hotel Cavendish')).select(\n",
    "    'Hotel_Name', 'Negative_Review')\n",
    "cavend2 = cavend.filter(cavend.Negative_Review.contains('uncomfortable')).select('Hotel_Name', 'Negative_Review')\n",
    "cavend2.groupBy().count().show()\n",
    "\n",
    "cavend3 = cavend.filter(cavend.Negative_Review.contains('small')).select('Hotel_Name', 'Negative_Review')\n",
    "cavend3.groupBy().count().show()\n",
    "\n",
    "cavend4 = cavend.filter(cavend.Negative_Review.contains('tiny')).select('Hotel_Name', 'Negative_Review')\n",
    "cavend4.groupBy().count().show()"
   ]
  },
  {
   "cell_type": "code",
   "execution_count": 51,
   "metadata": {},
   "outputs": [
    {
     "name": "stdout",
     "output_type": "stream",
     "text": [
      "+-----+\n",
      "|count|\n",
      "+-----+\n",
      "|   53|\n",
      "+-----+\n",
      "\n",
      "+-----+\n",
      "|count|\n",
      "+-----+\n",
      "|    3|\n",
      "+-----+\n",
      "\n",
      "+-----+\n",
      "|count|\n",
      "+-----+\n",
      "|   12|\n",
      "+-----+\n",
      "\n"
     ]
    }
   ],
   "source": [
    "cavend5 = cavend.filter(cavend.Negative_Review.contains('dirty')).select('Hotel_Name', 'Negative_Review')\n",
    "cavend5.groupBy().count().show()\n",
    "\n",
    "cavend5 = cavend.filter(cavend.Negative_Review.contains('unclean')).select('Hotel_Name', 'Negative_Review')\n",
    "cavend5.groupBy().count().show()\n",
    "\n",
    "cavend5 = cavend.filter(cavend.Negative_Review.contains(' not clean')).select('Hotel_Name', 'Negative_Review')\n",
    "cavend5.groupBy().count().show()"
   ]
  },
  {
   "cell_type": "code",
   "execution_count": 52,
   "metadata": {},
   "outputs": [
    {
     "name": "stdout",
     "output_type": "stream",
     "text": [
      "+-----+\n",
      "|count|\n",
      "+-----+\n",
      "|  127|\n",
      "+-----+\n",
      "\n",
      "+-----+\n",
      "|count|\n",
      "+-----+\n",
      "|   37|\n",
      "+-----+\n",
      "\n"
     ]
    }
   ],
   "source": [
    "cavend5 = cavend.filter(cavend.Negative_Review.contains('breakfast')).select('Hotel_Name', 'Negative_Review')\n",
    "cavend5.groupBy().count().show()\n",
    "\n",
    "cavend5 = cavend.filter(cavend.Negative_Review.contains('Breakfast')).select('Hotel_Name', 'Negative_Review')\n",
    "cavend5.groupBy().count().show()"
   ]
  },
  {
   "cell_type": "code",
   "execution_count": 53,
   "metadata": {},
   "outputs": [
    {
     "name": "stdout",
     "output_type": "stream",
     "text": [
      "+--------------------------------------+\n",
      "|sum(Review_Total_Negative_Word_Counts)|\n",
      "+--------------------------------------+\n",
      "|                                 25710|\n",
      "+--------------------------------------+\n",
      "\n",
      "+--------------------------------------+\n",
      "|sum(Review_Total_Positive_Word_Counts)|\n",
      "+--------------------------------------+\n",
      "|                                   795|\n",
      "+--------------------------------------+\n",
      "\n"
     ]
    }
   ],
   "source": [
    "\n",
    "cav_neg = data.filter(data.Hotel_Name.contains('Hotel Cavendish')).select('Hotel_Name', 'Review_Total_Negative_Word_Counts')\n",
    "cav_neg.groupby().sum().show()\n",
    "\n",
    "cav_neg2 = data.filter(data.Hotel_Name.contains('Hotel Liberty')).select('Hotel_Name', 'Review_Total_Positive_Word_Counts')\n",
    "cav_neg2.groupby().sum().show()"
   ]
  },
  {
   "cell_type": "code",
   "execution_count": 58,
   "metadata": {},
   "outputs": [],
   "source": [
    "# Savoy Hotel Amsterdam"
   ]
  },
  {
   "cell_type": "code",
   "execution_count": 54,
   "metadata": {},
   "outputs": [
    {
     "name": "stdout",
     "output_type": "stream",
     "text": [
      "+-----+\n",
      "|count|\n",
      "+-----+\n",
      "|   44|\n",
      "+-----+\n",
      "\n",
      "+-----+\n",
      "|count|\n",
      "+-----+\n",
      "|    2|\n",
      "+-----+\n",
      "\n",
      "+-----+\n",
      "|count|\n",
      "+-----+\n",
      "|    9|\n",
      "+-----+\n",
      "\n"
     ]
    }
   ],
   "source": [
    "#Common positive words in Savoy Hotel reviews \n",
    "\n",
    "\n",
    "savoy = data.filter(data.Hotel_Name.contains('Savoy Hotel Amsterdam')).select('Hotel_Name', 'Positive_Review')\n",
    "sav2 = savoy.filter(savoy.Positive_Review.contains('location')).select('Hotel_Name', 'Positive_Review')\n",
    "sav2.groupBy().count().show()\n",
    "\n",
    "sav3 = savoy.filter(savoy.Positive_Review.contains('central')).select('Hotel_Name', 'Positive_Review')\n",
    "sav3.groupBy().count().show()\n",
    "\n",
    "sav4 = savoy.filter(savoy.Positive_Review.contains('close to')).select('Hotel_Name', 'Positive_Review')\n",
    "sav4.groupBy().count().show()\n"
   ]
  },
  {
   "cell_type": "code",
   "execution_count": 55,
   "metadata": {},
   "outputs": [
    {
     "name": "stdout",
     "output_type": "stream",
     "text": [
      "+-----+\n",
      "|count|\n",
      "+-----+\n",
      "|    9|\n",
      "+-----+\n",
      "\n",
      "+-----+\n",
      "|count|\n",
      "+-----+\n",
      "|    3|\n",
      "+-----+\n",
      "\n"
     ]
    }
   ],
   "source": [
    "sav2 = savoy.filter(savoy.Positive_Review.contains('breakfast')).select('Hotel_Name', 'Positive_Review')\n",
    "sav2.groupBy().count().show()\n",
    "\n",
    "sav2 = savoy.filter(savoy.Positive_Review.contains('Breakfast')).select('Hotel_Name', 'Positive_Review')\n",
    "sav2.groupBy().count().show()"
   ]
  },
  {
   "cell_type": "code",
   "execution_count": 56,
   "metadata": {},
   "outputs": [
    {
     "name": "stdout",
     "output_type": "stream",
     "text": [
      "+-----+\n",
      "|count|\n",
      "+-----+\n",
      "|   28|\n",
      "+-----+\n",
      "\n",
      "+-----+\n",
      "|count|\n",
      "+-----+\n",
      "|   37|\n",
      "+-----+\n",
      "\n"
     ]
    }
   ],
   "source": [
    "#Common negative words in Savoy Hotel reviews \n",
    "\n",
    "sav_neg = data.filter(data.Hotel_Name.contains('Savoy Hotel Amsterdam')).select(\n",
    "    'Hotel_Name', 'Negative_Review')\n",
    "sav_neg2 = cavend.filter(sav_neg.Negative_Review.contains('breakfast')).select('Hotel_Name', 'Negative_Review')\n",
    "cavend2.groupBy().count().show()\n",
    "\n",
    "cavend3 = cavend.filter(cavend.Negative_Review.contains('Breakfast')).select('Hotel_Name', 'Negative_Review')\n",
    "cavend3.groupBy().count().show()"
   ]
  },
  {
   "cell_type": "code",
   "execution_count": 57,
   "metadata": {},
   "outputs": [
    {
     "name": "stdout",
     "output_type": "stream",
     "text": [
      "+-----+\n",
      "|count|\n",
      "+-----+\n",
      "|   13|\n",
      "+-----+\n",
      "\n",
      "+-----+\n",
      "|count|\n",
      "+-----+\n",
      "|    1|\n",
      "+-----+\n",
      "\n",
      "+-----+\n",
      "|count|\n",
      "+-----+\n",
      "|    5|\n",
      "+-----+\n",
      "\n",
      "+-----+\n",
      "|count|\n",
      "+-----+\n",
      "|    2|\n",
      "+-----+\n",
      "\n"
     ]
    }
   ],
   "source": [
    "sav_neg = data.filter(data.Hotel_Name.contains(\n",
    "    'Savoy Hotel Amsterdam')).select('Hotel_Name', 'Negative_Review')\n",
    "sav_neg5 = sav_neg.filter(sav_neg.Negative_Review.contains('dirty')).select('Hotel_Name', 'Negative_Review')\n",
    "sav_neg5.groupBy().count().show()\n",
    "\n",
    "sav_neg5 = sav_neg.filter(sav_neg.Negative_Review.contains('unclean')).select('Hotel_Name', 'Negative_Review')\n",
    "sav_neg5.groupBy().count().show()\n",
    "\n",
    "sav_neg5 = sav_neg.filter(sav_neg.Negative_Review.contains('not clean')).select('Hotel_Name', 'Negative_Review')\n",
    "sav_neg5.groupBy().count().show()\n",
    "\n",
    "\n",
    "sav_neg5 = sav_neg.filter(sav_neg.Negative_Review.contains('not cleaned')).select('Hotel_Name', 'Negative_Review')\n",
    "sav_neg5.groupBy().count().show()"
   ]
  },
  {
   "cell_type": "code",
   "execution_count": 59,
   "metadata": {},
   "outputs": [
    {
     "name": "stdout",
     "output_type": "stream",
     "text": [
      "+-----+\n",
      "|count|\n",
      "+-----+\n",
      "|    5|\n",
      "+-----+\n",
      "\n",
      "+-----+\n",
      "|count|\n",
      "+-----+\n",
      "|   25|\n",
      "+-----+\n",
      "\n",
      "+-----+\n",
      "|count|\n",
      "+-----+\n",
      "|    5|\n",
      "+-----+\n",
      "\n"
     ]
    }
   ],
   "source": [
    "sav_neg = data.filter(data.Hotel_Name.contains(\n",
    "    'Savoy Hotel Amsterdam')).select('Hotel_Name', 'Negative_Review')\n",
    "sav_neg5 = sav_neg.filter(sav_neg.Negative_Review.contains('uncomfortable')).select('Hotel_Name', 'Negative_Review')\n",
    "sav_neg5.groupBy().count().show()\n",
    "\n",
    "sav_neg5 = sav_neg.filter(sav_neg.Negative_Review.contains('small')).select('Hotel_Name', 'Negative_Review')\n",
    "sav_neg5.groupBy().count().show()\n",
    "\n",
    "sav_neg5 = sav_neg.filter(sav_neg.Negative_Review.contains('tiny')).select('Hotel_Name', 'Negative_Review')\n",
    "sav_neg5.groupBy().count().show()"
   ]
  },
  {
   "cell_type": "code",
   "execution_count": 60,
   "metadata": {},
   "outputs": [
    {
     "name": "stdout",
     "output_type": "stream",
     "text": [
      "+-----+\n",
      "|count|\n",
      "+-----+\n",
      "|   10|\n",
      "+-----+\n",
      "\n",
      "+-----+\n",
      "|count|\n",
      "+-----+\n",
      "|    2|\n",
      "+-----+\n",
      "\n",
      "+-----+\n",
      "|count|\n",
      "+-----+\n",
      "|    4|\n",
      "+-----+\n",
      "\n",
      "+-----+\n",
      "|count|\n",
      "+-----+\n",
      "|    0|\n",
      "+-----+\n",
      "\n"
     ]
    }
   ],
   "source": [
    "sav_neg = data.filter(data.Hotel_Name.contains(\n",
    "    'Savoy Hotel Amsterdam')).select('Hotel_Name', 'Negative_Review')\n",
    "sav_neg5 = sav_neg.filter(sav_neg.Negative_Review.contains('wifi')).select('Hotel_Name', 'Negative_Review')\n",
    "sav_neg5.groupBy().count().show()\n",
    "\n",
    "sav_neg5 = sav_neg.filter(sav_neg.Negative_Review.contains('wi fi')).select('Hotel_Name', 'Negative_Review')\n",
    "sav_neg5.groupBy().count().show()\n",
    "\n",
    "sav_neg5 = sav_neg.filter(sav_neg.Negative_Review.contains('Wifi')).select('Hotel_Name', 'Negative_Review')\n",
    "sav_neg5.groupBy().count().show()\n",
    "\n",
    "sav_neg5 = sav_neg.filter(sav_neg.Negative_Review.contains('Wi fi')).select('Hotel_Name', 'Negative_Review')\n",
    "sav_neg5.groupBy().count().show()"
   ]
  },
  {
   "cell_type": "code",
   "execution_count": 61,
   "metadata": {},
   "outputs": [
    {
     "name": "stdout",
     "output_type": "stream",
     "text": [
      "+--------------------------------------+\n",
      "|sum(Review_Total_Negative_Word_Counts)|\n",
      "+--------------------------------------+\n",
      "|                                  9105|\n",
      "+--------------------------------------+\n",
      "\n",
      "+--------------------------------------+\n",
      "|sum(Review_Total_Positive_Word_Counts)|\n",
      "+--------------------------------------+\n",
      "|                                  2984|\n",
      "+--------------------------------------+\n",
      "\n"
     ]
    }
   ],
   "source": [
    "sav_neg = data.filter(data.Hotel_Name.contains('Savoy Hotel Amsterdam')).select('Hotel_Name', 'Review_Total_Negative_Word_Counts')\n",
    "sav_neg.groupby().sum().show()\n",
    "\n",
    "sav_pos = data.filter(data.Hotel_Name.contains('Savoy Hotel Amsterdam')).select('Hotel_Name', 'Review_Total_Positive_Word_Counts')\n",
    "sav_pos.groupby().sum().show()"
   ]
  },
  {
   "cell_type": "markdown",
   "metadata": {},
   "source": [
    "# The Highest Average Hotel Scores "
   ]
  },
  {
   "cell_type": "code",
   "execution_count": 68,
   "metadata": {},
   "outputs": [
    {
     "name": "stdout",
     "output_type": "stream",
     "text": [
      "+--------------------+-------------+-----+\n",
      "|          Hotel_Name|Average_Score|count|\n",
      "+--------------------+-------------+-----+\n",
      "|          Ritz Paris|          9.8|   28|\n",
      "|                  41|          9.6|  103|\n",
      "|H10 Casa Mimosa 4...|          9.6|  116|\n",
      "|    Hotel The Serras|          9.6|  213|\n",
      "|     Haymarket Hotel|          9.6|  121|\n",
      "|   Hotel Casa Camper|          9.6|  301|\n",
      "|H tel de La Tamis...|          9.6|   61|\n",
      "|Hotel The Peninsu...|          9.5|   58|\n",
      "|Palais Coburg Res...|          9.5|   16|\n",
      "|Milestone Hotel K...|          9.5|   86|\n",
      "|   Hotel Sacher Wien|          9.5|  130|\n",
      "|Le Narcisse Blanc...|          9.5|   57|\n",
      "|      The Soho Hotel|          9.5|  157|\n",
      "|      Ham Yard Hotel|          9.5|  141|\n",
      "|Charlotte Street ...|          9.5|  141|\n",
      "|Waldorf Astoria A...|          9.5|  142|\n",
      "|Taj 51 Buckingham...|          9.5|  133|\n",
      "|Mercer Hotel Barc...|          9.5|  146|\n",
      "|La Chambre du Marais|          9.4|   88|\n",
      "|Boutiquehotel Das...|          9.4|  139|\n",
      "+--------------------+-------------+-----+\n",
      "only showing top 20 rows\n",
      "\n"
     ]
    }
   ],
   "source": [
    "x2 = data.groupBy(\"Hotel_Name\" ,'Average_Score').count().orderBy('Average_Score', ascending=False).show()\n"
   ]
  },
  {
   "cell_type": "code",
   "execution_count": 70,
   "metadata": {},
   "outputs": [
    {
     "data": {
      "text/html": [
       "<div>\n",
       "<style scoped>\n",
       "    .dataframe tbody tr th:only-of-type {\n",
       "        vertical-align: middle;\n",
       "    }\n",
       "\n",
       "    .dataframe tbody tr th {\n",
       "        vertical-align: top;\n",
       "    }\n",
       "\n",
       "    .dataframe thead th {\n",
       "        text-align: right;\n",
       "    }\n",
       "</style>\n",
       "<table border=\"1\" class=\"dataframe\">\n",
       "  <thead>\n",
       "    <tr style=\"text-align: right;\">\n",
       "      <th></th>\n",
       "      <th>Hotel Name</th>\n",
       "      <th>Average Score</th>\n",
       "      <th>Reviews count</th>\n",
       "    </tr>\n",
       "  </thead>\n",
       "  <tbody>\n",
       "    <tr>\n",
       "      <td>0</td>\n",
       "      <td>Hotel Casa Camper</td>\n",
       "      <td>9.6</td>\n",
       "      <td>301</td>\n",
       "    </tr>\n",
       "    <tr>\n",
       "      <td>1</td>\n",
       "      <td>Hotel The Serras</td>\n",
       "      <td>9.6</td>\n",
       "      <td>213</td>\n",
       "    </tr>\n",
       "    <tr>\n",
       "      <td>2</td>\n",
       "      <td>Haymarket Hotel</td>\n",
       "      <td>9.6</td>\n",
       "      <td>121</td>\n",
       "    </tr>\n",
       "    <tr>\n",
       "      <td>3</td>\n",
       "      <td>H10 Casa Mimosa 4 Sup</td>\n",
       "      <td>9.6</td>\n",
       "      <td>116</td>\n",
       "    </tr>\n",
       "    <tr>\n",
       "      <td>4</td>\n",
       "      <td>41</td>\n",
       "      <td>9.6</td>\n",
       "      <td>103</td>\n",
       "    </tr>\n",
       "    <tr>\n",
       "      <td>5</td>\n",
       "      <td>H tel de La Tamise Esprit de France</td>\n",
       "      <td>9.6</td>\n",
       "      <td>61</td>\n",
       "    </tr>\n",
       "    <tr>\n",
       "      <td>6</td>\n",
       "      <td>Ritz Paris</td>\n",
       "      <td>9.8</td>\n",
       "      <td>28</td>\n",
       "    </tr>\n",
       "  </tbody>\n",
       "</table>\n",
       "</div>"
      ],
      "text/plain": [
       "                            Hotel Name  Average Score  Reviews count\n",
       "0                    Hotel Casa Camper            9.6            301\n",
       "1                     Hotel The Serras            9.6            213\n",
       "2                      Haymarket Hotel            9.6            121\n",
       "3                H10 Casa Mimosa 4 Sup            9.6            116\n",
       "4                                   41            9.6            103\n",
       "5  H tel de La Tamise Esprit de France            9.6             61\n",
       "6                           Ritz Paris            9.8             28"
      ]
     },
     "execution_count": 70,
     "metadata": {},
     "output_type": "execute_result"
    }
   ],
   "source": [
    "x = data.filter('Average_Score >= 9.6').groupBy(\"Hotel_Name\" ,'Average_Score').count().orderBy('count', ascending=False).collect()\n",
    "col = ['Hotel Name', 'Average Score', 'Reviews count']\n",
    "df = pd.DataFrame(data= x, columns=col)\n",
    "df"
   ]
  },
  {
   "cell_type": "code",
   "execution_count": 71,
   "metadata": {},
   "outputs": [
    {
     "data": {
      "text/html": [
       "<div>\n",
       "<style scoped>\n",
       "    .dataframe tbody tr th:only-of-type {\n",
       "        vertical-align: middle;\n",
       "    }\n",
       "\n",
       "    .dataframe tbody tr th {\n",
       "        vertical-align: top;\n",
       "    }\n",
       "\n",
       "    .dataframe thead th {\n",
       "        text-align: right;\n",
       "    }\n",
       "</style>\n",
       "<table border=\"1\" class=\"dataframe\">\n",
       "  <thead>\n",
       "    <tr style=\"text-align: right;\">\n",
       "      <th></th>\n",
       "      <th>Hotel Name</th>\n",
       "      <th>Average Score</th>\n",
       "      <th>Reviews count</th>\n",
       "      <th>Ciy</th>\n",
       "    </tr>\n",
       "  </thead>\n",
       "  <tbody>\n",
       "    <tr>\n",
       "      <td>0</td>\n",
       "      <td>Hotel Casa Camper</td>\n",
       "      <td>9.6</td>\n",
       "      <td>301</td>\n",
       "      <td>Barcelona</td>\n",
       "    </tr>\n",
       "    <tr>\n",
       "      <td>1</td>\n",
       "      <td>Hotel The Serras</td>\n",
       "      <td>9.6</td>\n",
       "      <td>213</td>\n",
       "      <td>Barcelona</td>\n",
       "    </tr>\n",
       "    <tr>\n",
       "      <td>2</td>\n",
       "      <td>Haymarket Hotel</td>\n",
       "      <td>9.6</td>\n",
       "      <td>121</td>\n",
       "      <td>London</td>\n",
       "    </tr>\n",
       "    <tr>\n",
       "      <td>3</td>\n",
       "      <td>H10 Casa Mimosa 4 Sup</td>\n",
       "      <td>9.6</td>\n",
       "      <td>116</td>\n",
       "      <td>Barcelona</td>\n",
       "    </tr>\n",
       "    <tr>\n",
       "      <td>4</td>\n",
       "      <td>41</td>\n",
       "      <td>9.6</td>\n",
       "      <td>103</td>\n",
       "      <td>London</td>\n",
       "    </tr>\n",
       "    <tr>\n",
       "      <td>5</td>\n",
       "      <td>H tel de La Tamise Esprit de France</td>\n",
       "      <td>9.6</td>\n",
       "      <td>61</td>\n",
       "      <td>Paris</td>\n",
       "    </tr>\n",
       "    <tr>\n",
       "      <td>6</td>\n",
       "      <td>Ritz Paris</td>\n",
       "      <td>9.8</td>\n",
       "      <td>28</td>\n",
       "      <td>Paris</td>\n",
       "    </tr>\n",
       "  </tbody>\n",
       "</table>\n",
       "</div>"
      ],
      "text/plain": [
       "                            Hotel Name  Average Score  Reviews count  \\\n",
       "0                    Hotel Casa Camper            9.6            301   \n",
       "1                     Hotel The Serras            9.6            213   \n",
       "2                      Haymarket Hotel            9.6            121   \n",
       "3                H10 Casa Mimosa 4 Sup            9.6            116   \n",
       "4                                   41            9.6            103   \n",
       "5  H tel de La Tamise Esprit de France            9.6             61   \n",
       "6                           Ritz Paris            9.8             28   \n",
       "\n",
       "         Ciy  \n",
       "0  Barcelona  \n",
       "1  Barcelona  \n",
       "2     London  \n",
       "3  Barcelona  \n",
       "4     London  \n",
       "5      Paris  \n",
       "6      Paris  "
      ]
     },
     "execution_count": 71,
     "metadata": {},
     "output_type": "execute_result"
    }
   ],
   "source": [
    "df['Ciy'] = ['Barcelona', 'Barcelona', 'London', 'Barcelona', 'London', 'Paris', 'Paris']\n",
    "df"
   ]
  },
  {
   "cell_type": "code",
   "execution_count": null,
   "metadata": {},
   "outputs": [],
   "source": [
    "#Ritz Paris "
   ]
  },
  {
   "cell_type": "code",
   "execution_count": 72,
   "metadata": {},
   "outputs": [
    {
     "name": "stdout",
     "output_type": "stream",
     "text": [
      "+--------------------------------------+\n",
      "|sum(Review_Total_Negative_Word_Counts)|\n",
      "+--------------------------------------+\n",
      "|                                   302|\n",
      "+--------------------------------------+\n",
      "\n",
      "+--------------------------------------+\n",
      "|sum(Review_Total_Positive_Word_Counts)|\n",
      "+--------------------------------------+\n",
      "|                                   622|\n",
      "+--------------------------------------+\n",
      "\n"
     ]
    }
   ],
   "source": [
    "ritz_neg = data.filter(data.Hotel_Name.contains('Ritz Paris')).select('Hotel_Name', \n",
    "                                                                            'Review_Total_Negative_Word_Counts')\n",
    "ritz_neg.groupby().sum().show()\n",
    "\n",
    "ritz_pos = data.filter(data.Hotel_Name.contains('Ritz Paris')).select(\n",
    "    'Hotel_Name', 'Review_Total_Positive_Word_Counts')\n",
    "ritz_pos.groupby().sum().show()"
   ]
  },
  {
   "cell_type": "code",
   "execution_count": 76,
   "metadata": {},
   "outputs": [
    {
     "name": "stdout",
     "output_type": "stream",
     "text": [
      "+----------+--------------+\n",
      "|Hotel_Name|Reviewer_Score|\n",
      "+----------+--------------+\n",
      "|Ritz Paris|           6.3|\n",
      "|Ritz Paris|           9.6|\n",
      "|Ritz Paris|           9.6|\n",
      "|Ritz Paris|           9.6|\n",
      "|Ritz Paris|           9.6|\n",
      "|Ritz Paris|           9.6|\n",
      "|Ritz Paris|           9.6|\n",
      "|Ritz Paris|           9.6|\n",
      "|Ritz Paris|           9.6|\n",
      "|Ritz Paris|           9.6|\n",
      "|Ritz Paris|           9.6|\n",
      "|Ritz Paris|          10.0|\n",
      "|Ritz Paris|          10.0|\n",
      "|Ritz Paris|          10.0|\n",
      "|Ritz Paris|          10.0|\n",
      "|Ritz Paris|          10.0|\n",
      "|Ritz Paris|          10.0|\n",
      "|Ritz Paris|          10.0|\n",
      "|Ritz Paris|          10.0|\n",
      "|Ritz Paris|          10.0|\n",
      "+----------+--------------+\n",
      "only showing top 20 rows\n",
      "\n"
     ]
    }
   ],
   "source": [
    "ritz = data.filter(data.Hotel_Name.contains('Ritz Paris')).orderBy(\"Reviewer_Score\").select('Hotel_Name', 'Reviewer_Score')\n",
    "ritz.show()"
   ]
  },
  {
   "cell_type": "code",
   "execution_count": 62,
   "metadata": {},
   "outputs": [],
   "source": [
    "#Hotel Casa Camper "
   ]
  },
  {
   "cell_type": "code",
   "execution_count": 73,
   "metadata": {},
   "outputs": [
    {
     "name": "stdout",
     "output_type": "stream",
     "text": [
      "+--------------------------------------+\n",
      "|sum(Review_Total_Negative_Word_Counts)|\n",
      "+--------------------------------------+\n",
      "|                                  2233|\n",
      "+--------------------------------------+\n",
      "\n",
      "+--------------------------------------+\n",
      "|sum(Review_Total_Positive_Word_Counts)|\n",
      "+--------------------------------------+\n",
      "|                                  9537|\n",
      "+--------------------------------------+\n",
      "\n"
     ]
    }
   ],
   "source": [
    "camper_neg = data.filter(data.Hotel_Name.contains('Hotel Casa Camper')).select('Hotel_Name', \n",
    "                                                                            'Review_Total_Negative_Word_Counts')\n",
    "camper_neg.groupby().sum().show()\n",
    "\n",
    "camper_pos = data.filter(data.Hotel_Name.contains('Hotel Casa Camper')).select(\n",
    "    'Hotel_Name', 'Review_Total_Positive_Word_Counts')\n",
    "camper_pos.groupby().sum().show()"
   ]
  },
  {
   "cell_type": "code",
   "execution_count": 63,
   "metadata": {},
   "outputs": [
    {
     "name": "stdout",
     "output_type": "stream",
     "text": [
      "+-----------------+--------------+\n",
      "|       Hotel_Name|Reviewer_Score|\n",
      "+-----------------+--------------+\n",
      "|Hotel Casa Camper|           5.4|\n",
      "|Hotel Casa Camper|           6.7|\n",
      "|Hotel Casa Camper|           6.7|\n",
      "|Hotel Casa Camper|           8.3|\n",
      "|Hotel Casa Camper|           8.3|\n",
      "|Hotel Casa Camper|           8.8|\n",
      "|Hotel Casa Camper|           8.8|\n",
      "|Hotel Casa Camper|           8.8|\n",
      "|Hotel Casa Camper|           8.8|\n",
      "|Hotel Casa Camper|           8.8|\n",
      "|Hotel Casa Camper|           8.8|\n",
      "|Hotel Casa Camper|           8.8|\n",
      "|Hotel Casa Camper|           8.8|\n",
      "|Hotel Casa Camper|           8.8|\n",
      "|Hotel Casa Camper|           8.8|\n",
      "|Hotel Casa Camper|           8.8|\n",
      "|Hotel Casa Camper|           8.8|\n",
      "|Hotel Casa Camper|           8.8|\n",
      "|Hotel Casa Camper|           9.2|\n",
      "|Hotel Casa Camper|           9.2|\n",
      "+-----------------+--------------+\n",
      "only showing top 20 rows\n",
      "\n"
     ]
    }
   ],
   "source": [
    "data.filter(data.Hotel_Name.contains('Hotel Casa Camper')).orderBy('Reviewer_Score').select(\n",
    "    'Hotel_Name', 'Reviewer_Score').show()"
   ]
  },
  {
   "cell_type": "code",
   "execution_count": 64,
   "metadata": {},
   "outputs": [
    {
     "data": {
      "text/html": [
       "<div>\n",
       "<style scoped>\n",
       "    .dataframe tbody tr th:only-of-type {\n",
       "        vertical-align: middle;\n",
       "    }\n",
       "\n",
       "    .dataframe tbody tr th {\n",
       "        vertical-align: top;\n",
       "    }\n",
       "\n",
       "    .dataframe thead th {\n",
       "        text-align: right;\n",
       "    }\n",
       "</style>\n",
       "<table border=\"1\" class=\"dataframe\">\n",
       "  <thead>\n",
       "    <tr style=\"text-align: right;\">\n",
       "      <th></th>\n",
       "      <th>0</th>\n",
       "      <th>1</th>\n",
       "    </tr>\n",
       "  </thead>\n",
       "  <tbody>\n",
       "    <tr>\n",
       "      <td>0</td>\n",
       "      <td>Hotel Casa Camper</td>\n",
       "      <td>10.0</td>\n",
       "    </tr>\n",
       "    <tr>\n",
       "      <td>1</td>\n",
       "      <td>Hotel Casa Camper</td>\n",
       "      <td>10.0</td>\n",
       "    </tr>\n",
       "    <tr>\n",
       "      <td>2</td>\n",
       "      <td>Hotel Casa Camper</td>\n",
       "      <td>10.0</td>\n",
       "    </tr>\n",
       "    <tr>\n",
       "      <td>3</td>\n",
       "      <td>Hotel Casa Camper</td>\n",
       "      <td>10.0</td>\n",
       "    </tr>\n",
       "    <tr>\n",
       "      <td>4</td>\n",
       "      <td>Hotel Casa Camper</td>\n",
       "      <td>10.0</td>\n",
       "    </tr>\n",
       "    <tr>\n",
       "      <td>...</td>\n",
       "      <td>...</td>\n",
       "      <td>...</td>\n",
       "    </tr>\n",
       "    <tr>\n",
       "      <td>175</td>\n",
       "      <td>Hotel Casa Camper</td>\n",
       "      <td>10.0</td>\n",
       "    </tr>\n",
       "    <tr>\n",
       "      <td>176</td>\n",
       "      <td>Hotel Casa Camper</td>\n",
       "      <td>9.6</td>\n",
       "    </tr>\n",
       "    <tr>\n",
       "      <td>177</td>\n",
       "      <td>Hotel Casa Camper</td>\n",
       "      <td>9.6</td>\n",
       "    </tr>\n",
       "    <tr>\n",
       "      <td>178</td>\n",
       "      <td>Hotel Casa Camper</td>\n",
       "      <td>9.6</td>\n",
       "    </tr>\n",
       "    <tr>\n",
       "      <td>179</td>\n",
       "      <td>Hotel Casa Camper</td>\n",
       "      <td>9.6</td>\n",
       "    </tr>\n",
       "  </tbody>\n",
       "</table>\n",
       "<p>180 rows × 2 columns</p>\n",
       "</div>"
      ],
      "text/plain": [
       "                     0     1\n",
       "0    Hotel Casa Camper  10.0\n",
       "1    Hotel Casa Camper  10.0\n",
       "2    Hotel Casa Camper  10.0\n",
       "3    Hotel Casa Camper  10.0\n",
       "4    Hotel Casa Camper  10.0\n",
       "..                 ...   ...\n",
       "175  Hotel Casa Camper  10.0\n",
       "176  Hotel Casa Camper   9.6\n",
       "177  Hotel Casa Camper   9.6\n",
       "178  Hotel Casa Camper   9.6\n",
       "179  Hotel Casa Camper   9.6\n",
       "\n",
       "[180 rows x 2 columns]"
      ]
     },
     "execution_count": 64,
     "metadata": {},
     "output_type": "execute_result"
    }
   ],
   "source": [
    "x2 = data.filter(data.Hotel_Name.contains('Hotel Casa Camper')).orderBy('Reviewer_Score', ascending=False).select(\n",
    "    'Hotel_Name', 'Reviewer_Score').collect()\n",
    "x3 = pd.DataFrame(data=x2)\n",
    "x3[0:180]"
   ]
  },
  {
   "cell_type": "code",
   "execution_count": 66,
   "metadata": {},
   "outputs": [
    {
     "name": "stdout",
     "output_type": "stream",
     "text": [
      "+-----+\n",
      "|count|\n",
      "+-----+\n",
      "|   95|\n",
      "+-----+\n",
      "\n",
      "+-----+\n",
      "|count|\n",
      "+-----+\n",
      "|   10|\n",
      "+-----+\n",
      "\n",
      "+-----+\n",
      "|count|\n",
      "+-----+\n",
      "|    9|\n",
      "+-----+\n",
      "\n"
     ]
    }
   ],
   "source": [
    "#Common positive words in Hotel Casa Camper reviews \n",
    "\n",
    "casacam = data.filter(data.Hotel_Name.contains('Hotel Casa Camper')).select('Hotel_Name', 'Positive_Review')\n",
    "casacam2 = casacam.filter(casacam.Positive_Review.contains('location')).select('Hotel_Name', 'Positive_Review')\n",
    "casacam2.groupBy().count().show()\n",
    "\n",
    "casacam3 = casacam.filter(casacam.Positive_Review.contains('central')).select('Hotel_Name', 'Positive_Review')\n",
    "casacam3.groupBy().count().show()\n",
    "\n",
    "casacam4 = casacam.filter(savoy.Positive_Review.contains('close to')).select('Hotel_Name', 'Positive_Review')\n",
    "casacam4.groupBy().count().show()"
   ]
  },
  {
   "cell_type": "code",
   "execution_count": 67,
   "metadata": {},
   "outputs": [
    {
     "name": "stdout",
     "output_type": "stream",
     "text": [
      "+-----+\n",
      "|count|\n",
      "+-----+\n",
      "|   79|\n",
      "+-----+\n",
      "\n",
      "+-----+\n",
      "|count|\n",
      "+-----+\n",
      "|   19|\n",
      "+-----+\n",
      "\n"
     ]
    }
   ],
   "source": [
    "casacam = data.filter(data.Hotel_Name.contains('Hotel Casa Camper')).select('Hotel_Name', 'Positive_Review')\n",
    "\n",
    "casacam2 = casacam.filter(casacam.Positive_Review.contains('breakfast')).select('Hotel_Name', 'Positive_Review')\n",
    "casacam2.groupBy().count().show()\n",
    "\n",
    "casacam4 = casacam.filter(savoy.Positive_Review.contains('Breakfast')).select('Hotel_Name', 'Positive_Review')\n",
    "casacam4.groupBy().count().show()"
   ]
  },
  {
   "cell_type": "markdown",
   "metadata": {},
   "source": [
    "#  Countries and cities"
   ]
  },
  {
   "cell_type": "code",
   "execution_count": 78,
   "metadata": {},
   "outputs": [
    {
     "name": "stdout",
     "output_type": "stream",
     "text": [
      "+-------------------------+\n",
      "|Distinct Hotels in France|\n",
      "+-------------------------+\n",
      "|                      458|\n",
      "+-------------------------+\n",
      "\n",
      "+--------------------------------+\n",
      "|Distinct Hotels in Paris, France|\n",
      "+--------------------------------+\n",
      "|                             458|\n",
      "+--------------------------------+\n",
      "\n"
     ]
    }
   ],
   "source": [
    "france_hotels = data.filter(data.Hotel_Address.contains('France')).select('Hotel_Address')\n",
    "#france_hotels.groupby().count().show()\n",
    "france_hotels.select(countDistinct('Hotel_Address').alias('Distinct Hotels in France')).show()\n",
    "\n",
    "paris_hotels = data.filter(data.Hotel_Address.contains('Paris')).select('Hotel_Address')\n",
    "#france_hotels.groupby().count().show()\n",
    "y = paris_hotels.select(countDistinct('Hotel_Address').alias('Distinct Hotels in Paris, France')).show()"
   ]
  },
  {
   "cell_type": "code",
   "execution_count": 80,
   "metadata": {},
   "outputs": [
    {
     "name": "stdout",
     "output_type": "stream",
     "text": [
      "+---------------------------------+\n",
      "|Distinct Hotels in United Kingdom|\n",
      "+---------------------------------+\n",
      "|                              399|\n",
      "+---------------------------------+\n",
      "\n",
      "+-----------------------------+\n",
      "|Distinct Hotels in London, UK|\n",
      "+-----------------------------+\n",
      "|                          399|\n",
      "+-----------------------------+\n",
      "\n"
     ]
    }
   ],
   "source": [
    "UK_hotels = data.filter(data.Hotel_Address.contains('United Kingdom')).select('Hotel_Address')\n",
    "#UK_hotels.show()\n",
    "x = UK_hotels.select(countDistinct('Hotel_Address').alias('Distinct Hotels in United Kingdom')).show()\n",
    "\n",
    "London_hotels = data.filter(data.Hotel_Address.contains('London')).select('Hotel_Address')\n",
    "#UK_hotels.show()\n",
    "London_hotels.select(countDistinct('Hotel_Address').alias('Distinct Hotels in London, UK')).show()"
   ]
  },
  {
   "cell_type": "code",
   "execution_count": 82,
   "metadata": {},
   "outputs": [
    {
     "name": "stdout",
     "output_type": "stream",
     "text": [
      "+------------------------+\n",
      "|Distinct Hotels in Spain|\n",
      "+------------------------+\n",
      "|                     211|\n",
      "+------------------------+\n",
      "\n",
      "+--------------------------------+\n",
      "|Distinct Hotels in Madrid, Spain|\n",
      "+--------------------------------+\n",
      "|                               0|\n",
      "+--------------------------------+\n",
      "\n"
     ]
    }
   ],
   "source": [
    "Spain_hotels = data.filter(data.Hotel_Address.contains('Spain')).select('Hotel_Address')\n",
    "Spain_hotels.select(countDistinct('Hotel_Address').alias('Distinct Hotels in Spain')).show()\n",
    "\n",
    "Madrid_hotels = data.filter(data.Hotel_Address.contains('Madrid')).select('Hotel_Address')\n",
    "Madrid_hotels.select(countDistinct('Hotel_Address').alias('Distinct Hotels in Madrid, Spain')).show()"
   ]
  },
  {
   "cell_type": "code",
   "execution_count": 83,
   "metadata": {},
   "outputs": [
    {
     "name": "stdout",
     "output_type": "stream",
     "text": [
      "+-----------------------------------+\n",
      "|Distinct Hotels in Barcelona, Spain|\n",
      "+-----------------------------------+\n",
      "|                                211|\n",
      "+-----------------------------------+\n",
      "\n"
     ]
    }
   ],
   "source": [
    "Barcelona_hotels = data.filter(data.Hotel_Address.contains('Barcelona')).select('Hotel_Address')\n",
    "Barcelona_hotels.select(countDistinct('Hotel_Address').alias('Distinct Hotels in Barcelona, Spain')).show()"
   ]
  },
  {
   "cell_type": "code",
   "execution_count": 84,
   "metadata": {},
   "outputs": [
    {
     "name": "stdout",
     "output_type": "stream",
     "text": [
      "+--------------------------+\n",
      "|Distinct Hotels in Austria|\n",
      "+--------------------------+\n",
      "|                       158|\n",
      "+--------------------------+\n",
      "\n",
      "+--------------------------+\n",
      "|Distinct Hotels in Austria|\n",
      "+--------------------------+\n",
      "|                       158|\n",
      "+--------------------------+\n",
      "\n"
     ]
    }
   ],
   "source": [
    "Austria_hotels = data.filter(data.Hotel_Address.contains('Austria')).select('Hotel_Address')\n",
    "Austria_hotels.select(countDistinct('Hotel_Address').alias('Distinct Hotels in Austria')).show()\n",
    "\n",
    "Austria_hotels = data.filter(data.Hotel_Address.contains('Austria')).select('Hotel_Address')\n",
    "Austria_hotels.select(countDistinct('Hotel_Address').alias('Distinct Hotels in Austria')).show()"
   ]
  },
  {
   "cell_type": "code",
   "execution_count": 85,
   "metadata": {},
   "outputs": [
    {
     "name": "stdout",
     "output_type": "stream",
     "text": [
      "+------------------------------+\n",
      "|Distinct Hotels in Netherlands|\n",
      "+------------------------------+\n",
      "|                           105|\n",
      "+------------------------------+\n",
      "\n"
     ]
    }
   ],
   "source": [
    "Netherlands_hotels = data.filter(data.Hotel_Address.contains('Netherlands')).select('Hotel_Address')\n",
    "Netherlands_hotels.select(countDistinct('Hotel_Address').alias('Distinct Hotels in Netherlands')).show()"
   ]
  },
  {
   "cell_type": "code",
   "execution_count": 86,
   "metadata": {},
   "outputs": [
    {
     "name": "stdout",
     "output_type": "stream",
     "text": [
      "+------------------------+\n",
      "|Distinct Hotels in Italy|\n",
      "+------------------------+\n",
      "|                     162|\n",
      "+------------------------+\n",
      "\n"
     ]
    }
   ],
   "source": [
    "Italy_hotels = data.filter(data.Hotel_Address.contains('Italy')).select('Hotel_Address')\n",
    "Italy_hotels.select(countDistinct('Hotel_Address').alias('Distinct Hotels in Italy')).show()"
   ]
  },
  {
   "cell_type": "code",
   "execution_count": 87,
   "metadata": {},
   "outputs": [
    {
     "data": {
      "image/png": "[encoded data removed]",
      "text/plain": [
       "<Figure size 432x288 with 1 Axes>"
      ]
     },
     "metadata": {},
     "output_type": "display_data"
    }
   ],
   "source": [
    "labels = 'France', 'UK', 'Spain', 'Austria', 'Netherlands', 'Italy'\n",
    "sizes = [458, 399, 211, 158, 105, 162]\n",
    "explode = (0.1, 0, 0, 0, 0, 0)  # only \"explode\" the 1nd slice \n",
    "\n",
    "fig1, ax1 = plt.subplots()\n",
    "ax1.pie(sizes, explode=explode, labels=labels, autopct='%1.1f%%',\n",
    "        shadow=True, startangle=90)\n",
    "ax1.axis('equal')  # Equal aspect ratio ensures that pie is drawn as a circle.\n",
    "\n",
    "plt.show()"
   ]
  },
  {
   "cell_type": "markdown",
   "metadata": {},
   "source": [
    "# Reviewer Nationality"
   ]
  },
  {
   "cell_type": "code",
   "execution_count": 88,
   "metadata": {},
   "outputs": [
    {
     "name": "stdout",
     "output_type": "stream",
     "text": [
      "+--------------------+------+\n",
      "|Reviewer_Nationality| count|\n",
      "+--------------------+------+\n",
      "|     United Kingdom |245246|\n",
      "| United States of...| 35437|\n",
      "|          Australia | 21686|\n",
      "|            Ireland | 14827|\n",
      "| United Arab Emir...| 10235|\n",
      "|       Saudi Arabia |  8951|\n",
      "|        Netherlands |  8772|\n",
      "|        Switzerland |  8678|\n",
      "|            Germany |  7941|\n",
      "|             Canada |  7894|\n",
      "|             France |  7296|\n",
      "|             Israel |  6610|\n",
      "|              Italy |  6114|\n",
      "|            Belgium |  6031|\n",
      "|             Turkey |  5444|\n",
      "|             Kuwait |  4920|\n",
      "|              Spain |  4737|\n",
      "|            Romania |  4552|\n",
      "|             Russia |  3900|\n",
      "|       South Africa |  3821|\n",
      "+--------------------+------+\n",
      "only showing top 20 rows\n",
      "\n"
     ]
    }
   ],
   "source": [
    "national_count = data.groupBy(\"Reviewer_Nationality\").count().orderBy('count', ascending=False).show()"
   ]
  },
  {
   "cell_type": "code",
   "execution_count": 89,
   "metadata": {},
   "outputs": [
    {
     "name": "stdout",
     "output_type": "stream",
     "text": [
      "+--------------------+---------------------------------+\n",
      "|Reviewer_Nationality|Review_Total_Negative_Word_Counts|\n",
      "+--------------------+---------------------------------+\n",
      "|     United Kingdom |                              408|\n",
      "|     United Kingdom |                              403|\n",
      "|     United Kingdom |                              401|\n",
      "|     United Kingdom |                              400|\n",
      "|     United Kingdom |                              395|\n",
      "|     United Kingdom |                              393|\n",
      "|     United Kingdom |                              390|\n",
      "|     United Kingdom |                              389|\n",
      "|     United Kingdom |                              389|\n",
      "|     United Kingdom |                              389|\n",
      "|     United Kingdom |                              389|\n",
      "|     United Kingdom |                              388|\n",
      "|     United Kingdom |                              387|\n",
      "|     United Kingdom |                              386|\n",
      "|     United Kingdom |                              386|\n",
      "|     United Kingdom |                              385|\n",
      "|     United Kingdom |                              385|\n",
      "|     United Kingdom |                              385|\n",
      "|     United Kingdom |                              385|\n",
      "|     United Kingdom |                              384|\n",
      "+--------------------+---------------------------------+\n",
      "only showing top 20 rows\n",
      "\n"
     ]
    }
   ],
   "source": [
    "UK_rev = data.filter(data.Reviewer_Nationality.contains('United Kingdom')).select(\n",
    "    'Reviewer_Nationality','Review_Total_Negative_Word_Counts').orderBy('Review_Total_Negative_Word_Counts', ascending=False).show()\n"
   ]
  },
  {
   "cell_type": "code",
   "execution_count": 93,
   "metadata": {},
   "outputs": [
    {
     "name": "stdout",
     "output_type": "stream",
     "text": [
      "+--------------------+---------------------------------+\n",
      "|Reviewer_Nationality|Review_Total_Positive_Word_Counts|\n",
      "+--------------------+---------------------------------+\n",
      "|     United Kingdom |                              384|\n",
      "|     United Kingdom |                              384|\n",
      "|     United Kingdom |                              383|\n",
      "|     United Kingdom |                              373|\n",
      "|     United Kingdom |                              372|\n",
      "|     United Kingdom |                              372|\n",
      "|     United Kingdom |                              371|\n",
      "|     United Kingdom |                              371|\n",
      "|     United Kingdom |                              369|\n",
      "|     United Kingdom |                              369|\n",
      "|     United Kingdom |                              368|\n",
      "|     United Kingdom |                              368|\n",
      "|     United Kingdom |                              367|\n",
      "|     United Kingdom |                              367|\n",
      "|     United Kingdom |                              366|\n",
      "|     United Kingdom |                              366|\n",
      "|     United Kingdom |                              366|\n",
      "|     United Kingdom |                              360|\n",
      "|     United Kingdom |                              360|\n",
      "|     United Kingdom |                              355|\n",
      "+--------------------+---------------------------------+\n",
      "only showing top 20 rows\n",
      "\n"
     ]
    }
   ],
   "source": [
    "data.filter(data.Reviewer_Nationality.contains('United Kingdom')).select(\n",
    "    'Reviewer_Nationality','Review_Total_Positive_Word_Counts').orderBy('Review_Total_Positive_Word_Counts', ascending=False).show()"
   ]
  },
  {
   "cell_type": "markdown",
   "metadata": {},
   "source": [
    "# Tags"
   ]
  },
  {
   "cell_type": "code",
   "execution_count": 94,
   "metadata": {},
   "outputs": [
    {
     "name": "stdout",
     "output_type": "stream",
     "text": [
      "+------------------+\n",
      "|Leisure trips Tags|\n",
      "+------------------+\n",
      "|             37427|\n",
      "+------------------+\n",
      "\n"
     ]
    }
   ],
   "source": [
    "leisure_trip = data.filter(data.Tags.contains('Leisure trip')).select('Tags')\n",
    "leisure_trip.select(countDistinct('Tags').alias('Leisure trips Tags')).show()"
   ]
  },
  {
   "cell_type": "code",
   "execution_count": 95,
   "metadata": {},
   "outputs": [
    {
     "name": "stdout",
     "output_type": "stream",
     "text": [
      "+------------------+\n",
      "|Solo traveler Tags|\n",
      "+------------------+\n",
      "|             12514|\n",
      "+------------------+\n",
      "\n"
     ]
    }
   ],
   "source": [
    "Solo_traveler = data.filter(data.Tags.contains('Solo traveler')).select('Tags')\n",
    "Solo_traveler.select(countDistinct('Tags').alias('Solo traveler Tags')).show()"
   ]
  },
  {
   "cell_type": "code",
   "execution_count": 96,
   "metadata": {},
   "outputs": [
    {
     "name": "stdout",
     "output_type": "stream",
     "text": [
      "+-----------------------------------+\n",
      "|Submitted from a mobile device Tags|\n",
      "+-----------------------------------+\n",
      "|                              30689|\n",
      "+-----------------------------------+\n",
      "\n"
     ]
    }
   ],
   "source": [
    "mobile_device  = data.filter(data.Tags.contains('Submitted from a mobile device')).select('Tags')\n",
    "mobile_device.select(countDistinct('Tags').alias('Submitted from a mobile device Tags')).show()"
   ]
  },
  {
   "cell_type": "code",
   "execution_count": 97,
   "metadata": {},
   "outputs": [
    {
     "name": "stdout",
     "output_type": "stream",
     "text": [
      "+---------------+\n",
      "|With a pet Tags|\n",
      "+---------------+\n",
      "|           1017|\n",
      "+---------------+\n",
      "\n"
     ]
    }
   ],
   "source": [
    "With_pet = data.filter(data.Tags.contains('With a pet')).select('Tags')\n",
    "With_pet.select(countDistinct('Tags').alias('With a pet Tags')).show()"
   ]
  },
  {
   "cell_type": "code",
   "execution_count": 98,
   "metadata": {},
   "outputs": [
    {
     "name": "stdout",
     "output_type": "stream",
     "text": [
      "+---------------------------+\n",
      "| Executive Double Room Tags|\n",
      "+---------------------------+\n",
      "|                        647|\n",
      "+---------------------------+\n",
      "\n"
     ]
    }
   ],
   "source": [
    "Executive_Double_Room = data.filter(data.Tags.contains(' Executive Double Room')).select('Tags')\n",
    "Executive_Double_Room.select(countDistinct('Tags').alias(' Executive Double Room Tags')).show()"
   ]
  },
  {
   "cell_type": "code",
   "execution_count": 102,
   "metadata": {},
   "outputs": [
    {
     "name": "stdout",
     "output_type": "stream",
     "text": [
      "+----------------+\n",
      "|Single Room Tags|\n",
      "+----------------+\n",
      "|            1847|\n",
      "+----------------+\n",
      "\n"
     ]
    }
   ],
   "source": [
    "Single_Room= data.filter(data.Tags.contains('Single Room')).select('Tags')\n",
    "Single_Room.select(countDistinct('Tags').alias('Single Room Tags')).show()"
   ]
  },
  {
   "cell_type": "code",
   "execution_count": 101,
   "metadata": {},
   "outputs": [
    {
     "name": "stdout",
     "output_type": "stream",
     "text": [
      "+----------------+\n",
      "|Double Room Tags|\n",
      "+----------------+\n",
      "|           12600|\n",
      "+----------------+\n",
      "\n"
     ]
    }
   ],
   "source": [
    "Double_Room= data.filter(data.Tags.contains('Double Room')).select('Tags')\n",
    "Double_Room.select(countDistinct('Tags').alias('Double Room Tags')).show()"
   ]
  },
  {
   "cell_type": "code",
   "execution_count": 99,
   "metadata": {},
   "outputs": [
    {
     "name": "stdout",
     "output_type": "stream",
     "text": [
      "+---------------------+\n",
      "|Stayed 1 night (Tags)|\n",
      "+---------------------+\n",
      "|                12562|\n",
      "+---------------------+\n",
      "\n"
     ]
    }
   ],
   "source": [
    "One_night = data.filter(data.Tags.contains('Stayed 1 night')).select('Tags')\n",
    "One_night.select(countDistinct('Tags').alias('Stayed 1 night (Tags)')).show()"
   ]
  },
  {
   "cell_type": "code",
   "execution_count": 100,
   "metadata": {},
   "outputs": [
    {
     "name": "stdout",
     "output_type": "stream",
     "text": [
      "+----------------------+\n",
      "|Stayed 2 nights (Tags)|\n",
      "+----------------------+\n",
      "|                 11564|\n",
      "+----------------------+\n",
      "\n"
     ]
    }
   ],
   "source": [
    "Two_nights= data.filter(data.Tags.contains('Stayed 2 nights')).select('Tags')\n",
    "Two_nights.select(countDistinct('Tags').alias('Stayed 2 nights (Tags)')).show()"
   ]
  },
  {
   "cell_type": "code",
   "execution_count": 103,
   "metadata": {},
   "outputs": [
    {
     "name": "stdout",
     "output_type": "stream",
     "text": [
      "+----------------------+\n",
      "|Stayed 3 nights (Tags)|\n",
      "+----------------------+\n",
      "|                 10124|\n",
      "+----------------------+\n",
      "\n"
     ]
    }
   ],
   "source": [
    "Three_nights= data.filter(data.Tags.contains('Stayed 3 nights')).select('Tags')\n",
    "Three_nights.select(countDistinct('Tags').alias('Stayed 3 nights (Tags)')).show()"
   ]
  },
  {
   "cell_type": "code",
   "execution_count": 104,
   "metadata": {},
   "outputs": [
    {
     "name": "stdout",
     "output_type": "stream",
     "text": [
      "+----------------------+\n",
      "|Stayed 4 nights (Tags)|\n",
      "+----------------------+\n",
      "|                  7118|\n",
      "+----------------------+\n",
      "\n"
     ]
    }
   ],
   "source": [
    "Four_nights= data.filter(data.Tags.contains('Stayed 4 nights')).select('Tags')\n",
    "Four_nights.select(countDistinct('Tags').alias('Stayed 4 nights (Tags)')).show()"
   ]
  },
  {
   "cell_type": "code",
   "execution_count": 105,
   "metadata": {},
   "outputs": [
    {
     "name": "stdout",
     "output_type": "stream",
     "text": [
      "+----------------------+\n",
      "|Stayed 5 nights (Tags)|\n",
      "+----------------------+\n",
      "|                  4622|\n",
      "+----------------------+\n",
      "\n"
     ]
    }
   ],
   "source": [
    "Five_nights= data.filter(data.Tags.contains('Stayed 5 nights')).select('Tags')\n",
    "Five_nights.select(countDistinct('Tags').alias('Stayed 5 nights (Tags)')).show()"
   ]
  },
  {
   "cell_type": "code",
   "execution_count": 107,
   "metadata": {},
   "outputs": [
    {
     "name": "stdout",
     "output_type": "stream",
     "text": [
      "+----------------------+\n",
      "|Stayed 6 nights (Tags)|\n",
      "+----------------------+\n",
      "|                  2943|\n",
      "+----------------------+\n",
      "\n"
     ]
    }
   ],
   "source": [
    "Six_nights= data.filter(data.Tags.contains('Stayed 6 nights')).select('Tags')\n",
    "Six_nights.select(countDistinct('Tags').alias('Stayed 6 nights (Tags)')).show()"
   ]
  },
  {
   "cell_type": "code",
   "execution_count": 108,
   "metadata": {},
   "outputs": [
    {
     "name": "stdout",
     "output_type": "stream",
     "text": [
      "+----------------------+\n",
      "|Stayed 7 nights (Tags)|\n",
      "+----------------------+\n",
      "|                  2466|\n",
      "+----------------------+\n",
      "\n"
     ]
    }
   ],
   "source": [
    "Seven_nights= data.filter(data.Tags.contains('Stayed 7 nights')).select('Tags')\n",
    "Seven_nights.select(countDistinct('Tags').alias('Stayed 7 nights (Tags)')).show()"
   ]
  },
  {
   "cell_type": "code",
   "execution_count": 109,
   "metadata": {},
   "outputs": [
    {
     "name": "stdout",
     "output_type": "stream",
     "text": [
      "+----------------------+\n",
      "|Stayed 8 nights (Tags)|\n",
      "+----------------------+\n",
      "|                  1215|\n",
      "+----------------------+\n",
      "\n"
     ]
    }
   ],
   "source": [
    "Eight_nights= data.filter(data.Tags.contains('Stayed 8 nights')).select('Tags')\n",
    "Eight_nights.select(countDistinct('Tags').alias('Stayed 8 nights (Tags)')).show()"
   ]
  },
  {
   "cell_type": "code",
   "execution_count": 110,
   "metadata": {},
   "outputs": [
    {
     "name": "stdout",
     "output_type": "stream",
     "text": [
      "+----------------------+\n",
      "|Stayed 9 nights (Tags)|\n",
      "+----------------------+\n",
      "|                   735|\n",
      "+----------------------+\n",
      "\n"
     ]
    }
   ],
   "source": [
    "Nine_nights= data.filter(data.Tags.contains('Stayed 9 nights')).select('Tags')\n",
    "Nine_nights.select(countDistinct('Tags').alias('Stayed 9 nights (Tags)')).show()"
   ]
  },
  {
   "cell_type": "code",
   "execution_count": 111,
   "metadata": {},
   "outputs": [
    {
     "name": "stdout",
     "output_type": "stream",
     "text": [
      "+-----------------------+\n",
      "|Stayed 10 nights (Tags)|\n",
      "+-----------------------+\n",
      "|                    548|\n",
      "+-----------------------+\n",
      "\n"
     ]
    }
   ],
   "source": [
    "Ten_nights= data.filter(data.Tags.contains('Stayed 10 nights')).select('Tags')\n",
    "Ten_nights.select(countDistinct('Tags').alias('Stayed 10 nights (Tags)')).show()"
   ]
  },
  {
   "cell_type": "code",
   "execution_count": 113,
   "metadata": {},
   "outputs": [
    {
     "data": {
      "image/png": "[encoded data removed]",
      "text/plain": [
       "<Figure size 432x288 with 1 Axes>"
      ]
     },
     "metadata": {},
     "output_type": "display_data"
    }
   ],
   "source": [
    "labels = '1 Night', '2 Nights', '3 Nights', '4 Nights', '5 Nights', '6 Nights'\n",
    "sizes = [12562, 11564, 10124, 7118, 4622, 2943]\n",
    "explode = (0.1, 0, 0, 0, 0, 0)  # only \"explode\" the 1nd slice \n",
    "\n",
    "fig1, ax1 = plt.subplots()\n",
    "ax1.pie(sizes, explode=explode, labels=labels, autopct='%1.1f%%',\n",
    "        shadow=True, startangle=90)\n",
    "ax1.axis('equal')  # Equal aspect ratio ensures that pie is drawn as a circle.\n",
    "\n",
    "plt.show()"
   ]
  },
  {
   "cell_type": "code",
   "execution_count": null,
   "metadata": {},
   "outputs": [],
   "source": []
  }
 ],
 "metadata": {
  "kernelspec": {
   "display_name": "Python 3",
   "language": "python",
   "name": "python3"
  },
  "language_info": {
   "codemirror_mode": {
    "name": "ipython",
    "version": 3
   },
   "file_extension": ".py",
   "mimetype": "text/x-python",
   "name": "python",
   "nbconvert_exporter": "python",
   "pygments_lexer": "ipython3",
   "version": "3.7.4"
  }
 },
 "nbformat": 4,
 "nbformat_minor": 2
}
